{
 "cells": [
  {
   "cell_type": "code",
   "execution_count": 5,
   "id": "61d991b1",
   "metadata": {},
   "outputs": [],
   "source": [
    "from sentence_transformers import SentenceTransformer, util"
   ]
  },
  {
   "cell_type": "markdown",
   "id": "58d2c7be",
   "metadata": {},
   "source": [
    "### Load Dataset"
   ]
  },
  {
   "cell_type": "code",
   "execution_count": 6,
   "id": "4d69129c",
   "metadata": {},
   "outputs": [],
   "source": [
    "df = pd.read_csv('misinformation_papers.csv')"
   ]
  },
  {
   "cell_type": "code",
   "execution_count": 7,
   "id": "a61078c3",
   "metadata": {},
   "outputs": [
    {
     "data": {
      "text/html": [
       "<div>\n",
       "<style scoped>\n",
       "    .dataframe tbody tr th:only-of-type {\n",
       "        vertical-align: middle;\n",
       "    }\n",
       "\n",
       "    .dataframe tbody tr th {\n",
       "        vertical-align: top;\n",
       "    }\n",
       "\n",
       "    .dataframe thead th {\n",
       "        text-align: right;\n",
       "    }\n",
       "</style>\n",
       "<table border=\"1\" class=\"dataframe\">\n",
       "  <thead>\n",
       "    <tr style=\"text-align: right;\">\n",
       "      <th></th>\n",
       "      <th>original_title</th>\n",
       "      <th>abstract</th>\n",
       "      <th>year</th>\n",
       "      <th>citations</th>\n",
       "      <th>id</th>\n",
       "      <th>is_EN</th>\n",
       "    </tr>\n",
       "  </thead>\n",
       "  <tbody>\n",
       "    <tr>\n",
       "      <th>0</th>\n",
       "      <td>When Corrections Fail: The Persistence of Poli...</td>\n",
       "      <td>An extensive literature addresses citizen igno...</td>\n",
       "      <td>2010</td>\n",
       "      <td>901</td>\n",
       "      <td>2132553681</td>\n",
       "      <td>1</td>\n",
       "    </tr>\n",
       "    <tr>\n",
       "      <th>1</th>\n",
       "      <td>A postmodern Pandora's box: anti-vaccination m...</td>\n",
       "      <td>The Internet plays a large role in disseminati...</td>\n",
       "      <td>2010</td>\n",
       "      <td>440</td>\n",
       "      <td>2117485795</td>\n",
       "      <td>1</td>\n",
       "    </tr>\n",
       "    <tr>\n",
       "      <th>2</th>\n",
       "      <td>Spread of (Mis)Information in Social Networks</td>\n",
       "      <td>We provide a model to investigate the tension ...</td>\n",
       "      <td>2010</td>\n",
       "      <td>278</td>\n",
       "      <td>2120015072</td>\n",
       "      <td>1</td>\n",
       "    </tr>\n",
       "  </tbody>\n",
       "</table>\n",
       "</div>"
      ],
      "text/plain": [
       "                                      original_title  \\\n",
       "0  When Corrections Fail: The Persistence of Poli...   \n",
       "1  A postmodern Pandora's box: anti-vaccination m...   \n",
       "2      Spread of (Mis)Information in Social Networks   \n",
       "\n",
       "                                            abstract  year  citations  \\\n",
       "0  An extensive literature addresses citizen igno...  2010        901   \n",
       "1  The Internet plays a large role in disseminati...  2010        440   \n",
       "2  We provide a model to investigate the tension ...  2010        278   \n",
       "\n",
       "           id  is_EN  \n",
       "0  2132553681      1  \n",
       "1  2117485795      1  \n",
       "2  2120015072      1  "
      ]
     },
     "execution_count": 7,
     "metadata": {},
     "output_type": "execute_result"
    }
   ],
   "source": [
    "df.head(3)"
   ]
  },
  {
   "cell_type": "markdown",
   "id": "b9a731af",
   "metadata": {},
   "source": [
    "### Load the Transformer Model"
   ]
  },
  {
   "cell_type": "code",
   "execution_count": 8,
   "id": "8ea1ea41",
   "metadata": {},
   "outputs": [
    {
     "data": {
      "application/vnd.jupyter.widget-view+json": {
       "model_id": "d5dee4ef13754e8383e94164d256c5b8",
       "version_major": 2,
       "version_minor": 0
      },
      "text/plain": [
       "Downloading:   0%|          | 0.00/391 [00:00<?, ?B/s]"
      ]
     },
     "metadata": {},
     "output_type": "display_data"
    },
    {
     "data": {
      "application/vnd.jupyter.widget-view+json": {
       "model_id": "c2fab2f457b747488af06f12ad24ee69",
       "version_major": 2,
       "version_minor": 0
      },
      "text/plain": [
       "Downloading:   0%|          | 0.00/8.54k [00:00<?, ?B/s]"
      ]
     },
     "metadata": {},
     "output_type": "display_data"
    },
    {
     "data": {
      "application/vnd.jupyter.widget-view+json": {
       "model_id": "b4502013df52410ca064a0897c8133a1",
       "version_major": 2,
       "version_minor": 0
      },
      "text/plain": [
       "Downloading:   0%|          | 0.00/483 [00:00<?, ?B/s]"
      ]
     },
     "metadata": {},
     "output_type": "display_data"
    },
    {
     "data": {
      "application/vnd.jupyter.widget-view+json": {
       "model_id": "bb1aecc0abc74298bd85c87d1e4ef735",
       "version_major": 2,
       "version_minor": 0
      },
      "text/plain": [
       "Downloading:   0%|          | 0.00/268M [00:00<?, ?B/s]"
      ]
     },
     "metadata": {},
     "output_type": "display_data"
    },
    {
     "data": {
      "application/vnd.jupyter.widget-view+json": {
       "model_id": "6cd0f9d0575648b6afa546d6aa70f319",
       "version_major": 2,
       "version_minor": 0
      },
      "text/plain": [
       "Downloading:   0%|          | 0.00/466k [00:00<?, ?B/s]"
      ]
     },
     "metadata": {},
     "output_type": "display_data"
    },
    {
     "data": {
      "application/vnd.jupyter.widget-view+json": {
       "model_id": "c1496d4e2a31476295dfd882d6ca52cc",
       "version_major": 2,
       "version_minor": 0
      },
      "text/plain": [
       "Downloading:   0%|          | 0.00/28.0 [00:00<?, ?B/s]"
      ]
     },
     "metadata": {},
     "output_type": "display_data"
    },
    {
     "data": {
      "application/vnd.jupyter.widget-view+json": {
       "model_id": "cc0754f3010e4c719de99e6918a40df0",
       "version_major": 2,
       "version_minor": 0
      },
      "text/plain": [
       "Downloading:   0%|          | 0.00/232k [00:00<?, ?B/s]"
      ]
     },
     "metadata": {},
     "output_type": "display_data"
    },
    {
     "name": "stderr",
     "output_type": "stream",
     "text": [
      "WARNING:root:No sentence-transformers model found with name C:\\Users\\jesse/.cache\\torch\\sentence_transformers\\distilbert-base-uncased. Creating a new one with MEAN pooling.\n",
      "Some weights of the model checkpoint at C:\\Users\\jesse/.cache\\torch\\sentence_transformers\\distilbert-base-uncased were not used when initializing DistilBertModel: ['vocab_projector.weight', 'vocab_projector.bias', 'vocab_transform.weight', 'vocab_transform.bias', 'vocab_layer_norm.bias', 'vocab_layer_norm.weight']\n",
      "- This IS expected if you are initializing DistilBertModel from the checkpoint of a model trained on another task or with another architecture (e.g. initializing a BertForSequenceClassification model from a BertForPreTraining model).\n",
      "- This IS NOT expected if you are initializing DistilBertModel from the checkpoint of a model that you expect to be exactly identical (initializing a BertForSequenceClassification model from a BertForSequenceClassification model).\n"
     ]
    }
   ],
   "source": [
    "#load the distilbert model \n",
    "distilbert = SentenceTransformer('distilbert-base-uncased')"
   ]
  },
  {
   "cell_type": "code",
   "execution_count": 14,
   "id": "675a4023",
   "metadata": {},
   "outputs": [],
   "source": [
    "#Compute embeddings for all paper's abstracts\n",
    "corpus_embeddings = distilbert.encode(df['abstract'].to_list(), convert_to_tensor=True)"
   ]
  },
  {
   "cell_type": "code",
   "execution_count": 23,
   "id": "a5e0abc5",
   "metadata": {},
   "outputs": [
    {
     "data": {
      "text/plain": [
       "[[{'corpus_id': 6768, 'score': 0.6841555833816528},\n",
       "  {'corpus_id': 2917, 'score': 0.6811084747314453},\n",
       "  {'corpus_id': 8428, 'score': 0.6797125935554504},\n",
       "  {'corpus_id': 5300, 'score': 0.6789922714233398},\n",
       "  {'corpus_id': 7149, 'score': 0.6732285618782043},\n",
       "  {'corpus_id': 1973, 'score': 0.6650269031524658},\n",
       "  {'corpus_id': 6434, 'score': 0.663871169090271},\n",
       "  {'corpus_id': 2326, 'score': 0.663203775882721},\n",
       "  {'corpus_id': 2325, 'score': 0.663203775882721},\n",
       "  {'corpus_id': 2329, 'score': 0.663203775882721}]]"
      ]
     },
     "execution_count": 23,
     "metadata": {},
     "output_type": "execute_result"
    }
   ],
   "source": [
    "query = 'covid 19 and milk'\n",
    "\n",
    "query_embedding = distilbert.encode(query)\n",
    "\n",
    "search_hits = util.semantic_search(query_embedding, corpus_embeddings)\n",
    "search_hits "
   ]
  },
  {
   "cell_type": "code",
   "execution_count": 49,
   "id": "d62c6b96",
   "metadata": {},
   "outputs": [],
   "source": [
    "#We define a function, given title & abstract, searches our corpus for relevant (similar) papers\n",
    "def search_papers(query):\n",
    "    \n",
    "    query_embedding = distilbert.encode(query)\n",
    "\n",
    "    search_hits = util.semantic_search(query_embedding, corpus_embeddings)\n",
    "    search_hits = search_hits[0]  #Get the hits for the first query\n",
    "\n",
    "    \n",
    "    print(\"Most similar papers:\")\n",
    "    for hit in search_hits:\n",
    "        related_paper = df.loc[hit['corpus_id']]\n",
    "        print('Score: ',hit['score'], \n",
    "              'Title: ',related_paper['original_title'],\n",
    "              'Abstract: ',related_paper['abstract'], \n",
    "              'Year: ',related_paper['year'])\n",
    "        \n",
    "        print('/n')"
   ]
  },
  {
   "cell_type": "code",
   "execution_count": 51,
   "id": "ea56dbe9",
   "metadata": {},
   "outputs": [
    {
     "name": "stdout",
     "output_type": "stream",
     "text": [
      "Most similar papers:\n",
      "Score:  0.7449579834938049 Title:  Finasteride: Facts and Myths Abstract:  Media reports, Internet sites and misinformation by alternative medicine practitioners recently contributed to a negative image associated with finasteride, leading to apprehension and concern among patients taking the medication. Frequently, even dermatologists seem to be hesitant to prescribe the drug for long periods, mistakenly fearing the occurrence of long-term side effects. Finasteride, either alone or in combination with topical minoxidil, is an excellent option for men with androgenetic alopecia, reducing hair loss, and/or restoring hair growth in 9 of 10 patients. The drug can be taken at any time of the day, with or without food. There are no reports of significant drug interactions or allergies. Because it is metabolized in the liver, the drug should be used with caution in patients with liver diseases, but there is no need to indicate liver function tests frequently yet. Year:  2015\n",
      "/n\n",
      "Score:  0.734944224357605 Title:  Author´s answer: About human taeniasis and Taenia saginata diagnosis by endoscopy Abstract:  Dear editor. We have published an article about the role of the endoscopy in the Taeniosis. I will try to clarify some doubts and misinformation about it, as well Galan-Puchades MT suggests. Year:  2016\n",
      "/n\n",
      "Score:  0.734944224357605 Title:  Author´s reply: About human taeniasis and Taenia saginata diagnosis by endoscopy. Abstract:  Dear editor. We have published an article about the role of the endoscopy in the Taeniosis. I will try to clarify some doubts and misinformation about it, as well Galan-Puchades MT suggests. Year:  2016\n",
      "/n\n",
      "Score:  0.7346774339675903 Title:  Ulipristal and postcoital contraception. Abstract:  This letter to the editor argues that an article on EllaOne contained a number of errors or omissions in addition to a reflection of bias on ulipristal acetate. The author then seeks to explain and demonstrate the efficacy and safety of the product ulipristal acetate as an emergency contraceptive. Year:  2010\n",
      "/n\n",
      "Score:  0.7329069972038269 Title:  Antivaccine misinformation about rate of adverse effects and toxicity of vaccines Abstract:  Two widely known antivaccine inventions are discussed: \"vaccination is accompanied by adverse effects, which exceeded complications of respective infections on frequency and severity\" and \"vaccines represent appalling conglomerate of toxic substances, which is unnaturally to administer to children\". Informational and psychological nature of dissemination of these inventions is analyzed. On the basis of recent literature data conclusion was made about the absence of real toxicity (including neurotoxicity), carcinogenicity, allergenicity and autopathogenicity of phenol, folmaldehyde, aluminium hydroxide, Twin 80, squalen (MF59) and ethylmercury in concentrations found in vaccines of national immunization schedule. Year:  2010\n",
      "/n\n",
      "Score:  0.7222331762313843 Title:  COVID-19 Cures Offered Online: FDA Shuts Down Fraud Abstract:  Fraudulent claims on treatments and cures for COVID-19 infection are flooding social media and other digital communications. Here, 6 samples of misinformation your patients may be reading. Year:  2020\n",
      "/n\n",
      "Score:  0.7214999198913574 Title:  Childhood atopic dermatitis: Exploring the safety, efficacy and potential misinformation around topical corticosteroids Abstract:  Corticosteroid phobia' has been identified as a major cause of non-compliance and treatment failure in atopic dermatitis. Year:  2016\n",
      "/n\n",
      "Score:  0.7214180827140808 Title:  Mania following addition of hydroxytryptophan to monoamine oxidase inhibitor. Abstract:  This case report highlights the risk of nutritional supplements and misinformation obtained from the internet particularly for those on monamine oxdiase inhibitors (MAOIs). Despite sophisticated medical knowledge, this patient, who was taking an MOAI and complying with a tyramine-free diet, used a supplement of hydroxytryptophan that along with the MAOI appears to have precipitated mania, despite no personal or familial history of bipolar disorder. Year:  2012\n",
      "/n\n",
      "Score:  0.721127986907959 Title:  How the media helped ban mephedrone Abstract:  Misinformation in the media helped politicians push for the criminalisation of the “legal high” mephedrone last year despite a lack of evidence of harm, reports Jeremy Sare Year:  2011\n",
      "/n\n",
      "Score:  0.7147994041442871 Title:  New Pill, Same Misinformation Abstract:  On June 17th, a Food and Drug Administration (FDA) panel unanimously approved a new abortifacient drug, cutely called Agella,\" moving it one step closer to final approval and its appearance on drugstore shelves across the nation. The French pharmaceutical company HRA Pharma, which manufactures the drug, claims that it is just an upgraded Agmorning after pillAh that prevents, rather than interrupts, a pregnancy. In fact, the company claims that this one tiny pill can prevent pregnancy up to five days after sexual intercourse. How can a pill \"prevent\" pregnancy five full days after sex? Answer: it doesn't. There is little doubt that \"ella\" acts as an abortifacient in many cases. Year:  2010\n",
      "/n\n"
     ]
    }
   ],
   "source": [
    "search_papers('Can covid be cured with alcohol')"
   ]
  },
  {
   "cell_type": "code",
   "execution_count": null,
   "id": "49a28a74",
   "metadata": {},
   "outputs": [],
   "source": []
  }
 ],
 "metadata": {
  "kernelspec": {
   "display_name": "Python 3",
   "language": "python",
   "name": "python3"
  },
  "language_info": {
   "codemirror_mode": {
    "name": "ipython",
    "version": 3
   },
   "file_extension": ".py",
   "mimetype": "text/x-python",
   "name": "python",
   "nbconvert_exporter": "python",
   "pygments_lexer": "ipython3",
   "version": "3.8.8"
  }
 },
 "nbformat": 4,
 "nbformat_minor": 5
}
