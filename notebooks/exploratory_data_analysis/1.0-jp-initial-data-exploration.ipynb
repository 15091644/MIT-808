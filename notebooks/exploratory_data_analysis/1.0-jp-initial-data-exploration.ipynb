{
 "cells": [
  {
   "cell_type": "markdown",
   "id": "79e4ad14",
   "metadata": {},
   "source": [
    "### Library Imports"
   ]
  },
  {
   "cell_type": "code",
   "execution_count": 1,
   "id": "566d0fe6",
   "metadata": {},
   "outputs": [],
   "source": [
    "import pandas as pd"
   ]
  },
  {
   "cell_type": "markdown",
   "id": "46895cd4",
   "metadata": {},
   "source": [
    "### Read Data File"
   ]
  },
  {
   "cell_type": "code",
   "execution_count": 2,
   "id": "7b1186bb",
   "metadata": {},
   "outputs": [],
   "source": [
    "df = pd.read_csv('../../data/raw/query-sdg-full_20220312_92k.csv', sep='|', header=0) \n",
    "\n",
    "# Pandas will start looking from where your current python file is located. \n",
    "# Therefore you can move from your current directory to where your data is located with '..'"
   ]
  },
  {
   "cell_type": "code",
   "execution_count": 3,
   "id": "8ed6dd49",
   "metadata": {},
   "outputs": [
    {
     "data": {
      "text/html": [
       "<div>\n",
       "<style scoped>\n",
       "    .dataframe tbody tr th:only-of-type {\n",
       "        vertical-align: middle;\n",
       "    }\n",
       "\n",
       "    .dataframe tbody tr th {\n",
       "        vertical-align: top;\n",
       "    }\n",
       "\n",
       "    .dataframe thead th {\n",
       "        text-align: right;\n",
       "    }\n",
       "</style>\n",
       "<table border=\"1\" class=\"dataframe\">\n",
       "  <thead>\n",
       "    <tr style=\"text-align: right;\">\n",
       "      <th></th>\n",
       "      <th>ptr_id</th>\n",
       "      <th>articletype_id</th>\n",
       "      <th>sdg_lst</th>\n",
       "      <th>authors</th>\n",
       "      <th>title</th>\n",
       "      <th>content</th>\n",
       "      <th>keywords</th>\n",
       "      <th>institution_id</th>\n",
       "    </tr>\n",
       "  </thead>\n",
       "  <tbody>\n",
       "    <tr>\n",
       "      <th>0</th>\n",
       "      <td>13</td>\n",
       "      <td>13.0</td>\n",
       "      <td>14, 2</td>\n",
       "      <td>{\"Jansen, Jonathan D.\"}</td>\n",
       "      <td>Autonomy and accountability in the regulation ...</td>\n",
       "      <td>This article examines the struggles of the Sou...</td>\n",
       "      <td>{Autonomy,Learning,Performance,Teaching,\"Gover...</td>\n",
       "      <td>1</td>\n",
       "    </tr>\n",
       "    <tr>\n",
       "      <th>1</th>\n",
       "      <td>14</td>\n",
       "      <td>14.0</td>\n",
       "      <td>2</td>\n",
       "      <td>{\"Jansen, Jonathan D.\"}</td>\n",
       "      <td>Intellectuals under fire</td>\n",
       "      <td>Looks at the status of intellectuals in South ...</td>\n",
       "      <td>{\"Cultural policy\",Democracy,\"Political system...</td>\n",
       "      <td>1</td>\n",
       "    </tr>\n",
       "    <tr>\n",
       "      <th>2</th>\n",
       "      <td>16</td>\n",
       "      <td>16.0</td>\n",
       "      <td>2</td>\n",
       "      <td>{\"Jansen, Jonathan D.\"}</td>\n",
       "      <td>Mode 2 knowledge and institutional life: takin...</td>\n",
       "      <td>This paper examines the response of a black un...</td>\n",
       "      <td>{\"Higher education\",\"Information technology\",\"...</td>\n",
       "      <td>1</td>\n",
       "    </tr>\n",
       "    <tr>\n",
       "      <th>3</th>\n",
       "      <td>17</td>\n",
       "      <td>17.0</td>\n",
       "      <td>14, 1</td>\n",
       "      <td>{\"Jansen, Jonathan D.\"}</td>\n",
       "      <td>Political symbolism as policy craft : explaini...</td>\n",
       "      <td>The policy literature in developing countries ...</td>\n",
       "      <td>{Apartheid,\"Educational change\",\"Educational p...</td>\n",
       "      <td>1</td>\n",
       "    </tr>\n",
       "  </tbody>\n",
       "</table>\n",
       "</div>"
      ],
      "text/plain": [
       "   ptr_id  articletype_id sdg_lst                  authors  \\\n",
       "0      13            13.0   14, 2  {\"Jansen, Jonathan D.\"}   \n",
       "1      14            14.0       2  {\"Jansen, Jonathan D.\"}   \n",
       "2      16            16.0       2  {\"Jansen, Jonathan D.\"}   \n",
       "3      17            17.0   14, 1  {\"Jansen, Jonathan D.\"}   \n",
       "\n",
       "                                               title  \\\n",
       "0  Autonomy and accountability in the regulation ...   \n",
       "1                           Intellectuals under fire   \n",
       "2  Mode 2 knowledge and institutional life: takin...   \n",
       "3  Political symbolism as policy craft : explaini...   \n",
       "\n",
       "                                             content  \\\n",
       "0  This article examines the struggles of the Sou...   \n",
       "1  Looks at the status of intellectuals in South ...   \n",
       "2  This paper examines the response of a black un...   \n",
       "3  The policy literature in developing countries ...   \n",
       "\n",
       "                                            keywords  institution_id  \n",
       "0  {Autonomy,Learning,Performance,Teaching,\"Gover...               1  \n",
       "1  {\"Cultural policy\",Democracy,\"Political system...               1  \n",
       "2  {\"Higher education\",\"Information technology\",\"...               1  \n",
       "3  {Apartheid,\"Educational change\",\"Educational p...               1  "
      ]
     },
     "execution_count": 3,
     "metadata": {},
     "output_type": "execute_result"
    }
   ],
   "source": [
    "df.head(4)"
   ]
  },
  {
   "cell_type": "code",
   "execution_count": 4,
   "id": "a32caec3",
   "metadata": {},
   "outputs": [
    {
     "data": {
      "text/plain": [
       "ptr_id              int64\n",
       "articletype_id    float64\n",
       "sdg_lst            object\n",
       "authors            object\n",
       "title              object\n",
       "content            object\n",
       "keywords           object\n",
       "institution_id      int64\n",
       "dtype: object"
      ]
     },
     "execution_count": 4,
     "metadata": {},
     "output_type": "execute_result"
    }
   ],
   "source": [
    "# check the types of data in the set\n",
    "\n",
    "df.dtypes"
   ]
  },
  {
   "cell_type": "markdown",
   "id": "758fda00",
   "metadata": {},
   "source": [
    "### Check Data Set's Quality"
   ]
  },
  {
   "cell_type": "code",
   "execution_count": 5,
   "id": "87648c66",
   "metadata": {},
   "outputs": [
    {
     "data": {
      "text/plain": [
       "ptr_id            0\n",
       "articletype_id    1\n",
       "sdg_lst           1\n",
       "authors           0\n",
       "title             0\n",
       "content           0\n",
       "keywords          0\n",
       "institution_id    0\n",
       "dtype: int64"
      ]
     },
     "execution_count": 5,
     "metadata": {},
     "output_type": "execute_result"
    }
   ],
   "source": [
    "# Check the number of nulls\n",
    "\n",
    "df.isnull().sum() # Efficient query for checking the number of nulls accross columns in pandas"
   ]
  },
  {
   "cell_type": "code",
   "execution_count": 38,
   "id": "5ec26165",
   "metadata": {},
   "outputs": [],
   "source": [
    "# Drop na values\n",
    "\n",
    "df = df.dropna()"
   ]
  },
  {
   "cell_type": "code",
   "execution_count": 39,
   "id": "f76705af",
   "metadata": {},
   "outputs": [
    {
     "data": {
      "text/plain": [
       "0"
      ]
     },
     "execution_count": 39,
     "metadata": {},
     "output_type": "execute_result"
    }
   ],
   "source": [
    "# does the ptr_id and article_type_id match \n",
    "\n",
    "# Find the number of mismatches in id's\n",
    "\n",
    "len([i for i in list(df.ptr_id == df.articletype_id) if i == False ])"
   ]
  },
  {
   "cell_type": "code",
   "execution_count": 45,
   "id": "72289ccf",
   "metadata": {},
   "outputs": [],
   "source": [
    "# get the number different sdg's listed\n",
    "\n",
    "listed_number = list()\n",
    "\n",
    "for i in df.sdg_lst.values:\n",
    "\n",
    "    # remove ',' in the string and split the string by white space to get a list\n",
    "    \n",
    "    split = i.replace(',','').split()\n",
    "    \n",
    "    listed_number.append(len(split))\n",
    "    \n",
    "# Get a column listing the number of sdg per article for distributional visualisation \n",
    "    \n",
    "df['no_listed_sdg'] = listed_number"
   ]
  },
  {
   "cell_type": "code",
   "execution_count": 46,
   "id": "831043d8",
   "metadata": {},
   "outputs": [
    {
     "data": {
      "text/html": [
       "<div>\n",
       "<style scoped>\n",
       "    .dataframe tbody tr th:only-of-type {\n",
       "        vertical-align: middle;\n",
       "    }\n",
       "\n",
       "    .dataframe tbody tr th {\n",
       "        vertical-align: top;\n",
       "    }\n",
       "\n",
       "    .dataframe thead th {\n",
       "        text-align: right;\n",
       "    }\n",
       "</style>\n",
       "<table border=\"1\" class=\"dataframe\">\n",
       "  <thead>\n",
       "    <tr style=\"text-align: right;\">\n",
       "      <th></th>\n",
       "      <th>ptr_id</th>\n",
       "      <th>articletype_id</th>\n",
       "      <th>sdg_lst</th>\n",
       "      <th>authors</th>\n",
       "      <th>title</th>\n",
       "      <th>content</th>\n",
       "      <th>keywords</th>\n",
       "      <th>institution_id</th>\n",
       "      <th>no_listed_sdg</th>\n",
       "    </tr>\n",
       "  </thead>\n",
       "  <tbody>\n",
       "    <tr>\n",
       "      <th>0</th>\n",
       "      <td>13</td>\n",
       "      <td>13.0</td>\n",
       "      <td>14, 2</td>\n",
       "      <td>{\"Jansen, Jonathan D.\"}</td>\n",
       "      <td>Autonomy and accountability in the regulation ...</td>\n",
       "      <td>This article examines the struggles of the Sou...</td>\n",
       "      <td>{Autonomy,Learning,Performance,Teaching,\"Gover...</td>\n",
       "      <td>1</td>\n",
       "      <td>2</td>\n",
       "    </tr>\n",
       "    <tr>\n",
       "      <th>1</th>\n",
       "      <td>14</td>\n",
       "      <td>14.0</td>\n",
       "      <td>2</td>\n",
       "      <td>{\"Jansen, Jonathan D.\"}</td>\n",
       "      <td>Intellectuals under fire</td>\n",
       "      <td>Looks at the status of intellectuals in South ...</td>\n",
       "      <td>{\"Cultural policy\",Democracy,\"Political system...</td>\n",
       "      <td>1</td>\n",
       "      <td>1</td>\n",
       "    </tr>\n",
       "    <tr>\n",
       "      <th>2</th>\n",
       "      <td>16</td>\n",
       "      <td>16.0</td>\n",
       "      <td>2</td>\n",
       "      <td>{\"Jansen, Jonathan D.\"}</td>\n",
       "      <td>Mode 2 knowledge and institutional life: takin...</td>\n",
       "      <td>This paper examines the response of a black un...</td>\n",
       "      <td>{\"Higher education\",\"Information technology\",\"...</td>\n",
       "      <td>1</td>\n",
       "      <td>1</td>\n",
       "    </tr>\n",
       "    <tr>\n",
       "      <th>3</th>\n",
       "      <td>17</td>\n",
       "      <td>17.0</td>\n",
       "      <td>14, 1</td>\n",
       "      <td>{\"Jansen, Jonathan D.\"}</td>\n",
       "      <td>Political symbolism as policy craft : explaini...</td>\n",
       "      <td>The policy literature in developing countries ...</td>\n",
       "      <td>{Apartheid,\"Educational change\",\"Educational p...</td>\n",
       "      <td>1</td>\n",
       "      <td>2</td>\n",
       "    </tr>\n",
       "    <tr>\n",
       "      <th>4</th>\n",
       "      <td>18</td>\n",
       "      <td>18.0</td>\n",
       "      <td>14</td>\n",
       "      <td>{\"Jansen, Jonathan D.\"}</td>\n",
       "      <td>School curriculum since apartheid : intersecti...</td>\n",
       "      <td>In the wake of South Africa's first non-racial...</td>\n",
       "      <td>{\"Curriculum development\",\"Educational policy\"...</td>\n",
       "      <td>1</td>\n",
       "      <td>1</td>\n",
       "    </tr>\n",
       "  </tbody>\n",
       "</table>\n",
       "</div>"
      ],
      "text/plain": [
       "   ptr_id  articletype_id sdg_lst                  authors  \\\n",
       "0      13            13.0   14, 2  {\"Jansen, Jonathan D.\"}   \n",
       "1      14            14.0       2  {\"Jansen, Jonathan D.\"}   \n",
       "2      16            16.0       2  {\"Jansen, Jonathan D.\"}   \n",
       "3      17            17.0   14, 1  {\"Jansen, Jonathan D.\"}   \n",
       "4      18            18.0      14  {\"Jansen, Jonathan D.\"}   \n",
       "\n",
       "                                               title  \\\n",
       "0  Autonomy and accountability in the regulation ...   \n",
       "1                           Intellectuals under fire   \n",
       "2  Mode 2 knowledge and institutional life: takin...   \n",
       "3  Political symbolism as policy craft : explaini...   \n",
       "4  School curriculum since apartheid : intersecti...   \n",
       "\n",
       "                                             content  \\\n",
       "0  This article examines the struggles of the Sou...   \n",
       "1  Looks at the status of intellectuals in South ...   \n",
       "2  This paper examines the response of a black un...   \n",
       "3  The policy literature in developing countries ...   \n",
       "4  In the wake of South Africa's first non-racial...   \n",
       "\n",
       "                                            keywords  institution_id  \\\n",
       "0  {Autonomy,Learning,Performance,Teaching,\"Gover...               1   \n",
       "1  {\"Cultural policy\",Democracy,\"Political system...               1   \n",
       "2  {\"Higher education\",\"Information technology\",\"...               1   \n",
       "3  {Apartheid,\"Educational change\",\"Educational p...               1   \n",
       "4  {\"Curriculum development\",\"Educational policy\"...               1   \n",
       "\n",
       "   no_listed_sdg  \n",
       "0              2  \n",
       "1              1  \n",
       "2              1  \n",
       "3              2  \n",
       "4              1  "
      ]
     },
     "execution_count": 46,
     "metadata": {},
     "output_type": "execute_result"
    }
   ],
   "source": [
    "df.head()"
   ]
  },
  {
   "cell_type": "code",
   "execution_count": null,
   "id": "7f793777",
   "metadata": {},
   "outputs": [],
   "source": []
  }
 ],
 "metadata": {
  "kernelspec": {
   "display_name": "Python 3",
   "language": "python",
   "name": "python3"
  },
  "language_info": {
   "codemirror_mode": {
    "name": "ipython",
    "version": 3
   },
   "file_extension": ".py",
   "mimetype": "text/x-python",
   "name": "python",
   "nbconvert_exporter": "python",
   "pygments_lexer": "ipython3",
   "version": "3.8.8"
  }
 },
 "nbformat": 4,
 "nbformat_minor": 5
}
