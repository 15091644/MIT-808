{
 "cells": [
  {
   "cell_type": "markdown",
   "id": "2ec33d00-0bc6-4856-8e10-db98697b063d",
   "metadata": {},
   "source": [
    "# Global Variables"
   ]
  },
  {
   "cell_type": "code",
   "execution_count": 1,
   "id": "ee7e07f9-9473-4042-bf0f-54de0838736b",
   "metadata": {},
   "outputs": [],
   "source": [
    "nb_name = '1.0-sej-sdg-descriptions'\n",
    "dataset_1 = 'wiki-sdg.csv'"
   ]
  },
  {
   "cell_type": "markdown",
   "id": "21a04718-611c-4f79-8d1f-dd9edf65bca4",
   "metadata": {},
   "source": [
    "# Import Data"
   ]
  },
  {
   "cell_type": "code",
   "execution_count": 2,
   "id": "786e7f78-cc87-413d-b7b8-f932b9c5b853",
   "metadata": {},
   "outputs": [],
   "source": [
    "import pandas as pd\n",
    "\n",
    "import matplotlib.pyplot as plt\n",
    "import os\n",
    "from itertools import zip_longest\n",
    "import numpy as np\n"
   ]
  },
  {
   "cell_type": "code",
   "execution_count": 3,
   "id": "ef6c3ac7-be89-4b44-9c0e-1ac8e75dade4",
   "metadata": {},
   "outputs": [],
   "source": [
    "# Read source .csv \n",
    "\n",
    "df_sdg = pd.read_csv('../../data/metadata/' + dataset_1, header=0,\n",
    "                    \n",
    "                    # csv encoding type and specify index column\n",
    "                    \n",
    "                    encoding='ANSI') #, index_col = 0)"
   ]
  },
  {
   "cell_type": "code",
   "execution_count": 4,
   "id": "2a57bd93-fff8-407a-b153-a0294ea9ae13",
   "metadata": {},
   "outputs": [
    {
     "data": {
      "text/html": [
       "<div>\n",
       "<style scoped>\n",
       "    .dataframe tbody tr th:only-of-type {\n",
       "        vertical-align: middle;\n",
       "    }\n",
       "\n",
       "    .dataframe tbody tr th {\n",
       "        vertical-align: top;\n",
       "    }\n",
       "\n",
       "    .dataframe thead th {\n",
       "        text-align: right;\n",
       "    }\n",
       "</style>\n",
       "<table border=\"1\" class=\"dataframe\">\n",
       "  <thead>\n",
       "    <tr style=\"text-align: right;\">\n",
       "      <th></th>\n",
       "      <th>sdg_id</th>\n",
       "      <th>sgd_description</th>\n",
       "      <th>sdg_alias1</th>\n",
       "      <th>sdg_alias2</th>\n",
       "      <th>Unnamed: 4</th>\n",
       "      <th>Unnamed: 5</th>\n",
       "    </tr>\n",
       "  </thead>\n",
       "  <tbody>\n",
       "    <tr>\n",
       "      <th>0</th>\n",
       "      <td>1</td>\n",
       "      <td>No Poverty</td>\n",
       "      <td>Poverty</td>\n",
       "      <td>NaN</td>\n",
       "      <td>NaN</td>\n",
       "      <td>NaN</td>\n",
       "    </tr>\n",
       "    <tr>\n",
       "      <th>1</th>\n",
       "      <td>2</td>\n",
       "      <td>Zero Hunger</td>\n",
       "      <td>Hunger</td>\n",
       "      <td>Food</td>\n",
       "      <td>NaN</td>\n",
       "      <td>NaN</td>\n",
       "    </tr>\n",
       "  </tbody>\n",
       "</table>\n",
       "</div>"
      ],
      "text/plain": [
       "   sdg_id sgd_description sdg_alias1 sdg_alias2  Unnamed: 4  Unnamed: 5\n",
       "0       1      No Poverty    Poverty        NaN         NaN         NaN\n",
       "1       2     Zero Hunger     Hunger       Food         NaN         NaN"
      ]
     },
     "execution_count": 4,
     "metadata": {},
     "output_type": "execute_result"
    }
   ],
   "source": [
    "# View raw csv\n",
    "\n",
    "df_sdg.head(2)"
   ]
  },
  {
   "cell_type": "markdown",
   "id": "9cc4dbbb-90cb-4b05-934c-0c6b0279b4bd",
   "metadata": {},
   "source": [
    "### Preprocess data"
   ]
  },
  {
   "cell_type": "code",
   "execution_count": 5,
   "id": "a62cd73a-10d8-49e6-87d4-0d2dc65f9b15",
   "metadata": {},
   "outputs": [
    {
     "data": {
      "text/html": [
       "<div>\n",
       "<style scoped>\n",
       "    .dataframe tbody tr th:only-of-type {\n",
       "        vertical-align: middle;\n",
       "    }\n",
       "\n",
       "    .dataframe tbody tr th {\n",
       "        vertical-align: top;\n",
       "    }\n",
       "\n",
       "    .dataframe thead th {\n",
       "        text-align: right;\n",
       "    }\n",
       "</style>\n",
       "<table border=\"1\" class=\"dataframe\">\n",
       "  <thead>\n",
       "    <tr style=\"text-align: right;\">\n",
       "      <th></th>\n",
       "      <th>sdg_id</th>\n",
       "      <th>sgd_description</th>\n",
       "      <th>sdg_alias1</th>\n",
       "    </tr>\n",
       "  </thead>\n",
       "  <tbody>\n",
       "    <tr>\n",
       "      <th>0</th>\n",
       "      <td>1</td>\n",
       "      <td>No Poverty</td>\n",
       "      <td>Poverty</td>\n",
       "    </tr>\n",
       "    <tr>\n",
       "      <th>1</th>\n",
       "      <td>2</td>\n",
       "      <td>Zero Hunger</td>\n",
       "      <td>Hunger</td>\n",
       "    </tr>\n",
       "    <tr>\n",
       "      <th>2</th>\n",
       "      <td>3</td>\n",
       "      <td>Good Health and Well-being</td>\n",
       "      <td>Health</td>\n",
       "    </tr>\n",
       "    <tr>\n",
       "      <th>3</th>\n",
       "      <td>4</td>\n",
       "      <td>Quality Education</td>\n",
       "      <td>Education</td>\n",
       "    </tr>\n",
       "    <tr>\n",
       "      <th>4</th>\n",
       "      <td>5</td>\n",
       "      <td>Gender Equality</td>\n",
       "      <td>Gender Equality</td>\n",
       "    </tr>\n",
       "    <tr>\n",
       "      <th>5</th>\n",
       "      <td>6</td>\n",
       "      <td>Clean Water and Sanitation</td>\n",
       "      <td>Water</td>\n",
       "    </tr>\n",
       "    <tr>\n",
       "      <th>6</th>\n",
       "      <td>7</td>\n",
       "      <td>Affordable and Clean Energy</td>\n",
       "      <td>Clean Energy</td>\n",
       "    </tr>\n",
       "    <tr>\n",
       "      <th>7</th>\n",
       "      <td>8</td>\n",
       "      <td>Decent Work and Economic Growth</td>\n",
       "      <td>Decent Work</td>\n",
       "    </tr>\n",
       "    <tr>\n",
       "      <th>8</th>\n",
       "      <td>9</td>\n",
       "      <td>Industry  Innovation and Infrastructure</td>\n",
       "      <td>Technology</td>\n",
       "    </tr>\n",
       "    <tr>\n",
       "      <th>9</th>\n",
       "      <td>10</td>\n",
       "      <td>Reduced Inequality</td>\n",
       "      <td>Inequality</td>\n",
       "    </tr>\n",
       "    <tr>\n",
       "      <th>10</th>\n",
       "      <td>11</td>\n",
       "      <td>Sustainable Cities and Communities</td>\n",
       "      <td>Governance</td>\n",
       "    </tr>\n",
       "    <tr>\n",
       "      <th>11</th>\n",
       "      <td>12</td>\n",
       "      <td>Responsible Consumption and Production</td>\n",
       "      <td>Energy</td>\n",
       "    </tr>\n",
       "    <tr>\n",
       "      <th>12</th>\n",
       "      <td>13</td>\n",
       "      <td>Climate Action</td>\n",
       "      <td>Climate</td>\n",
       "    </tr>\n",
       "    <tr>\n",
       "      <th>13</th>\n",
       "      <td>14</td>\n",
       "      <td>Life Below Water</td>\n",
       "      <td>Life below Water</td>\n",
       "    </tr>\n",
       "    <tr>\n",
       "      <th>14</th>\n",
       "      <td>15</td>\n",
       "      <td>Life On Land</td>\n",
       "      <td>Life on Land</td>\n",
       "    </tr>\n",
       "    <tr>\n",
       "      <th>15</th>\n",
       "      <td>16</td>\n",
       "      <td>Peace  Justice  and Strong Institutions</td>\n",
       "      <td>Peace</td>\n",
       "    </tr>\n",
       "    <tr>\n",
       "      <th>16</th>\n",
       "      <td>17</td>\n",
       "      <td>Partnerships for the Goals.</td>\n",
       "      <td>partnership</td>\n",
       "    </tr>\n",
       "  </tbody>\n",
       "</table>\n",
       "</div>"
      ],
      "text/plain": [
       "    sdg_id                          sgd_description        sdg_alias1\n",
       "0        1                               No Poverty           Poverty\n",
       "1        2                              Zero Hunger            Hunger\n",
       "2        3               Good Health and Well-being            Health\n",
       "3        4                        Quality Education         Education\n",
       "4        5                          Gender Equality   Gender Equality\n",
       "5        6               Clean Water and Sanitation             Water\n",
       "6        7              Affordable and Clean Energy      Clean Energy\n",
       "7        8          Decent Work and Economic Growth       Decent Work\n",
       "8        9  Industry  Innovation and Infrastructure        Technology\n",
       "9       10                       Reduced Inequality        Inequality\n",
       "10      11       Sustainable Cities and Communities        Governance\n",
       "11      12   Responsible Consumption and Production           Energy \n",
       "12      13                           Climate Action           Climate\n",
       "13      14                         Life Below Water  Life below Water\n",
       "14      15                             Life On Land      Life on Land\n",
       "15      16  Peace  Justice  and Strong Institutions             Peace\n",
       "16      17              Partnerships for the Goals.       partnership"
      ]
     },
     "execution_count": 5,
     "metadata": {},
     "output_type": "execute_result"
    }
   ],
   "source": [
    "# Remove unwanted columns\n",
    "\n",
    "df_sdg.drop(['sdg_alias2', 'Unnamed: 4', 'Unnamed: 5'], axis=1, inplace=True)\n",
    "\n",
    "# Rename columns\n",
    "\n",
    "df_sdg.rename(columns={'sgd_description':'sdg_description'})\n",
    "\n",
    "df_sdg.replace('  ',' ')"
   ]
  },
  {
   "cell_type": "code",
   "execution_count": 6,
   "id": "7ad82714-2ef3-49db-af90-9097f705882a",
   "metadata": {},
   "outputs": [
    {
     "data": {
      "text/html": [
       "<div>\n",
       "<style scoped>\n",
       "    .dataframe tbody tr th:only-of-type {\n",
       "        vertical-align: middle;\n",
       "    }\n",
       "\n",
       "    .dataframe tbody tr th {\n",
       "        vertical-align: top;\n",
       "    }\n",
       "\n",
       "    .dataframe thead th {\n",
       "        text-align: right;\n",
       "    }\n",
       "</style>\n",
       "<table border=\"1\" class=\"dataframe\">\n",
       "  <thead>\n",
       "    <tr style=\"text-align: right;\">\n",
       "      <th></th>\n",
       "      <th>sdg_id</th>\n",
       "      <th>sgd_description</th>\n",
       "      <th>sdg_alias1</th>\n",
       "    </tr>\n",
       "  </thead>\n",
       "  <tbody>\n",
       "    <tr>\n",
       "      <th>0</th>\n",
       "      <td>1</td>\n",
       "      <td>No Poverty</td>\n",
       "      <td>Poverty</td>\n",
       "    </tr>\n",
       "    <tr>\n",
       "      <th>1</th>\n",
       "      <td>2</td>\n",
       "      <td>Zero Hunger</td>\n",
       "      <td>Hunger</td>\n",
       "    </tr>\n",
       "    <tr>\n",
       "      <th>2</th>\n",
       "      <td>3</td>\n",
       "      <td>Good Health and Well-being</td>\n",
       "      <td>Health</td>\n",
       "    </tr>\n",
       "  </tbody>\n",
       "</table>\n",
       "</div>"
      ],
      "text/plain": [
       "   sdg_id             sgd_description sdg_alias1\n",
       "0       1                  No Poverty    Poverty\n",
       "1       2                 Zero Hunger     Hunger\n",
       "2       3  Good Health and Well-being     Health"
      ]
     },
     "execution_count": 6,
     "metadata": {},
     "output_type": "execute_result"
    }
   ],
   "source": [
    "df_sdg.head(3)"
   ]
  },
  {
   "cell_type": "markdown",
   "id": "df40fc9b-69fd-456d-bec6-34f4b305a099",
   "metadata": {},
   "source": [
    "### Save Data File "
   ]
  },
  {
   "cell_type": "code",
   "execution_count": 7,
   "id": "6333b0b5-c193-42fb-af18-421b74960868",
   "metadata": {},
   "outputs": [],
   "source": [
    "df_sdg.to_csv('../../data/processed/'+'preprocessed_data_'+dataset_1, index=False)"
   ]
  }
 ],
 "metadata": {
  "kernelspec": {
   "display_name": "Python 3 (ipykernel)",
   "language": "python",
   "name": "python3"
  },
  "language_info": {
   "codemirror_mode": {
    "name": "ipython",
    "version": 3
   },
   "file_extension": ".py",
   "mimetype": "text/x-python",
   "name": "python",
   "nbconvert_exporter": "python",
   "pygments_lexer": "ipython3",
   "version": "3.8.7"
  }
 },
 "nbformat": 4,
 "nbformat_minor": 5
}
