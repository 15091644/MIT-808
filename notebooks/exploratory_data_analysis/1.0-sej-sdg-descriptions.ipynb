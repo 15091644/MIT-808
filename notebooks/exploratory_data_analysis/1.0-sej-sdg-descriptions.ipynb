{
 "cells": [
  {
   "cell_type": "markdown",
   "id": "2ec33d00-0bc6-4856-8e10-db98697b063d",
   "metadata": {},
   "source": [
    "# Global Variables"
   ]
  },
  {
   "cell_type": "code",
   "execution_count": 57,
   "id": "ee7e07f9-9473-4042-bf0f-54de0838736b",
   "metadata": {},
   "outputs": [],
   "source": [
    "nb_name = '1.0-sej-sdg-descriptions'\n",
    "fn2_data = 'wiki-sdg.csv'"
   ]
  },
  {
   "cell_type": "markdown",
   "id": "21a04718-611c-4f79-8d1f-dd9edf65bca4",
   "metadata": {},
   "source": [
    "# Import Data"
   ]
  },
  {
   "cell_type": "code",
   "execution_count": 58,
   "id": "786e7f78-cc87-413d-b7b8-f932b9c5b853",
   "metadata": {},
   "outputs": [],
   "source": [
    "import pandas as pd"
   ]
  },
  {
   "cell_type": "code",
   "execution_count": 59,
   "id": "ef6c3ac7-be89-4b44-9c0e-1ac8e75dade4",
   "metadata": {},
   "outputs": [],
   "source": [
    "# Read source 2 csv \n",
    "\n",
    "df_sdg = pd.read_csv('../../data/raw/' + fn2_data, header=0,\n",
    "                    \n",
    "                    # csv encoding type and specify index column\n",
    "                    \n",
    "                    encoding='ANSI', index_col = 0)"
   ]
  },
  {
   "cell_type": "code",
   "execution_count": 63,
   "id": "a62cd73a-10d8-49e6-87d4-0d2dc65f9b15",
   "metadata": {},
   "outputs": [],
   "source": [
    "df_sdg.drop(['sdg_alias2', 'Unnamed: 4', 'Unnamed: 5'], axis=1, inplace=True)"
   ]
  },
  {
   "cell_type": "code",
   "execution_count": 64,
   "id": "7ad82714-2ef3-49db-af90-9097f705882a",
   "metadata": {},
   "outputs": [
    {
     "data": {
      "text/html": [
       "<div>\n",
       "<style scoped>\n",
       "    .dataframe tbody tr th:only-of-type {\n",
       "        vertical-align: middle;\n",
       "    }\n",
       "\n",
       "    .dataframe tbody tr th {\n",
       "        vertical-align: top;\n",
       "    }\n",
       "\n",
       "    .dataframe thead th {\n",
       "        text-align: right;\n",
       "    }\n",
       "</style>\n",
       "<table border=\"1\" class=\"dataframe\">\n",
       "  <thead>\n",
       "    <tr style=\"text-align: right;\">\n",
       "      <th></th>\n",
       "      <th>sgd_description</th>\n",
       "      <th>sdg_alias1</th>\n",
       "    </tr>\n",
       "    <tr>\n",
       "      <th>sdg_id</th>\n",
       "      <th></th>\n",
       "      <th></th>\n",
       "    </tr>\n",
       "  </thead>\n",
       "  <tbody>\n",
       "    <tr>\n",
       "      <th>1</th>\n",
       "      <td>No Poverty</td>\n",
       "      <td>Poverty</td>\n",
       "    </tr>\n",
       "    <tr>\n",
       "      <th>2</th>\n",
       "      <td>Zero Hunger</td>\n",
       "      <td>Hunger</td>\n",
       "    </tr>\n",
       "    <tr>\n",
       "      <th>3</th>\n",
       "      <td>Good Health and Well-being</td>\n",
       "      <td>Health</td>\n",
       "    </tr>\n",
       "    <tr>\n",
       "      <th>4</th>\n",
       "      <td>Quality Education</td>\n",
       "      <td>Education</td>\n",
       "    </tr>\n",
       "    <tr>\n",
       "      <th>5</th>\n",
       "      <td>Gender Equality</td>\n",
       "      <td>Gender Equality</td>\n",
       "    </tr>\n",
       "    <tr>\n",
       "      <th>6</th>\n",
       "      <td>Clean Water and Sanitation</td>\n",
       "      <td>Water</td>\n",
       "    </tr>\n",
       "    <tr>\n",
       "      <th>7</th>\n",
       "      <td>Affordable and Clean Energy</td>\n",
       "      <td>Clean Energy</td>\n",
       "    </tr>\n",
       "    <tr>\n",
       "      <th>8</th>\n",
       "      <td>Decent Work and Economic Growth</td>\n",
       "      <td>Decent Work</td>\n",
       "    </tr>\n",
       "    <tr>\n",
       "      <th>9</th>\n",
       "      <td>Industry  Innovation and Infrastructure</td>\n",
       "      <td>Technology</td>\n",
       "    </tr>\n",
       "    <tr>\n",
       "      <th>10</th>\n",
       "      <td>Reduced Inequality</td>\n",
       "      <td>Inequality</td>\n",
       "    </tr>\n",
       "    <tr>\n",
       "      <th>11</th>\n",
       "      <td>Sustainable Cities and Communities</td>\n",
       "      <td>Governance</td>\n",
       "    </tr>\n",
       "    <tr>\n",
       "      <th>12</th>\n",
       "      <td>Responsible Consumption and Production</td>\n",
       "      <td>Energy</td>\n",
       "    </tr>\n",
       "    <tr>\n",
       "      <th>13</th>\n",
       "      <td>Climate Action</td>\n",
       "      <td>Climate</td>\n",
       "    </tr>\n",
       "    <tr>\n",
       "      <th>14</th>\n",
       "      <td>Life Below Water</td>\n",
       "      <td>Life below Water</td>\n",
       "    </tr>\n",
       "    <tr>\n",
       "      <th>15</th>\n",
       "      <td>Life On Land</td>\n",
       "      <td>Life on Land</td>\n",
       "    </tr>\n",
       "    <tr>\n",
       "      <th>16</th>\n",
       "      <td>Peace  Justice  and Strong Institutions</td>\n",
       "      <td>Peace</td>\n",
       "    </tr>\n",
       "    <tr>\n",
       "      <th>17</th>\n",
       "      <td>Partnerships for the Goals.</td>\n",
       "      <td>partnership</td>\n",
       "    </tr>\n",
       "  </tbody>\n",
       "</table>\n",
       "</div>"
      ],
      "text/plain": [
       "                                sgd_description        sdg_alias1\n",
       "sdg_id                                                           \n",
       "1                                    No Poverty           Poverty\n",
       "2                                   Zero Hunger            Hunger\n",
       "3                    Good Health and Well-being            Health\n",
       "4                             Quality Education         Education\n",
       "5                               Gender Equality   Gender Equality\n",
       "6                    Clean Water and Sanitation             Water\n",
       "7                   Affordable and Clean Energy      Clean Energy\n",
       "8               Decent Work and Economic Growth       Decent Work\n",
       "9       Industry  Innovation and Infrastructure        Technology\n",
       "10                           Reduced Inequality        Inequality\n",
       "11           Sustainable Cities and Communities        Governance\n",
       "12       Responsible Consumption and Production           Energy \n",
       "13                               Climate Action           Climate\n",
       "14                             Life Below Water  Life below Water\n",
       "15                                 Life On Land      Life on Land\n",
       "16      Peace  Justice  and Strong Institutions             Peace\n",
       "17                  Partnerships for the Goals.       partnership"
      ]
     },
     "execution_count": 64,
     "metadata": {},
     "output_type": "execute_result"
    }
   ],
   "source": [
    "df_sdg.head(3)"
   ]
  },
  {
   "cell_type": "code",
   "execution_count": 65,
   "id": "0d567d62-46eb-4d9e-9b36-42bf15df8f7c",
   "metadata": {},
   "outputs": [
    {
     "data": {
      "text/plain": [
       "'Partnerships for the Goals.'"
      ]
     },
     "execution_count": 65,
     "metadata": {},
     "output_type": "execute_result"
    }
   ],
   "source": [
    "df_sdg.sgd_description[17]"
   ]
  },
  {
   "cell_type": "code",
   "execution_count": 9,
   "id": "291891d4-9d2b-4acd-bb5e-307e5356342f",
   "metadata": {},
   "outputs": [
    {
     "data": {
      "text/plain": [
       "True"
      ]
     },
     "execution_count": 9,
     "metadata": {},
     "output_type": "execute_result"
    }
   ],
   "source": [
    "# Unique ID\n",
    "df.ptr_id.is_unique"
   ]
  },
  {
   "cell_type": "code",
   "execution_count": 10,
   "id": "78272375-8edc-4910-b7c1-77a5987eb535",
   "metadata": {},
   "outputs": [
    {
     "data": {
      "text/plain": [
       "True"
      ]
     },
     "execution_count": 10,
     "metadata": {},
     "output_type": "execute_result"
    }
   ],
   "source": [
    "# Unique ID (Main primary key)\n",
    "df.articletype_id.is_unique"
   ]
  },
  {
   "cell_type": "code",
   "execution_count": 11,
   "id": "8d8c0ada-5dff-4630-a492-52cf48eb4f96",
   "metadata": {},
   "outputs": [
    {
     "name": "stdout",
     "output_type": "stream",
     "text": [
      "Columns with nulls:\n",
      " articletype_id         1\n",
      "sdg_lst                1\n",
      "content               23\n",
      "lang              122807\n",
      "issn              103329\n",
      "doi               195081\n",
      "dtype: int64\n"
     ]
    }
   ],
   "source": [
    "# Check for nulls and fill \n",
    "null_columns=df.columns[df.isnull().any()]\n",
    "print('Columns with nulls:\\n', df[null_columns].isnull().sum())\n",
    "for col in null_columns:\n",
    "    df[col]=df[col].fillna(0)"
   ]
  },
  {
   "cell_type": "raw",
   "id": "e81d30cb-9b55-4ea0-a3bd-5bc412708835",
   "metadata": {},
   "source": [
    "null_columns=df.columns[df.isnull().any()]\n",
    "print('Columns with nulls:\\n', df[null_columns].isnull().sum())"
   ]
  },
  {
   "cell_type": "code",
   "execution_count": 12,
   "id": "65c561f1-51aa-4dfd-88d0-92654d4035df",
   "metadata": {},
   "outputs": [
    {
     "name": "stdout",
     "output_type": "stream",
     "text": [
      "(0, 15)\n"
     ]
    }
   ],
   "source": [
    "# Check for na and drop na values\n",
    "df1 = df[df.isna().any(axis=1)]\n",
    "print(df1.shape)\n",
    "del df1\n",
    "df = df.dropna()"
   ]
  },
  {
   "cell_type": "code",
   "execution_count": 13,
   "id": "7f0283dc-c7b1-4ae5-8b2e-a240791e0d54",
   "metadata": {},
   "outputs": [
    {
     "name": "stdout",
     "output_type": "stream",
     "text": [
      "count mismatchees: (1, 15)\n"
     ]
    }
   ],
   "source": [
    "# Check sum: ptr_id should equal articletype_id\n",
    "print('count mismatchees:', df.loc[ (df.ptr_id != df.articletype_id)].shape)\n",
    "if _debug:\n",
    "    print(df.loc[ (df.ptr_id != df.articletype_id)])\n",
    "    print('shape', df.shape)\n",
    "    print('drop', df.drop(df[ (df.ptr_id != df.articletype_id) ].index, inplace = True))\n",
    "df.drop(df[ (df.ptr_id != df.articletype_id) ].index, inplace = True)"
   ]
  },
  {
   "cell_type": "code",
   "execution_count": 14,
   "id": "969d7af3-a9ab-4e53-b634-900f491cb338",
   "metadata": {},
   "outputs": [
    {
     "data": {
      "text/plain": [
       "(208806, 15)"
      ]
     },
     "execution_count": 14,
     "metadata": {},
     "output_type": "execute_result"
    }
   ],
   "source": [
    "# Final dataset shape\n",
    "df.shape"
   ]
  },
  {
   "cell_type": "markdown",
   "id": "122e72c1-5565-4207-960a-36745a7cb938",
   "metadata": {},
   "source": [
    "### Clean up keywords feature to have unique phrases."
   ]
  },
  {
   "cell_type": "code",
   "execution_count": 15,
   "id": "e41b2bc9-f7de-45a9-b1bf-8641ab7ac687",
   "metadata": {},
   "outputs": [],
   "source": [
    "kw=df.keywords"
   ]
  },
  {
   "cell_type": "code",
   "execution_count": 16,
   "id": "38191634-d17c-4c43-9dd6-3bb54d583bd8",
   "metadata": {},
   "outputs": [],
   "source": [
    "if _debug:\n",
    "    print(kw[0])"
   ]
  },
  {
   "cell_type": "code",
   "execution_count": 17,
   "id": "92d4f910-cd76-4fe0-b53a-618d88214444",
   "metadata": {},
   "outputs": [],
   "source": [
    "# strip left of '{'\n",
    "left=kw.str.split('{').str[1]\n",
    "# strip right of '}'\n",
    "right=left.str.split('}').str[0]\n",
    "kw=right.str.replace('\"', \"\")"
   ]
  },
  {
   "cell_type": "code",
   "execution_count": 18,
   "id": "b5518bad-c259-4a70-ac24-3af5e7aa9276",
   "metadata": {},
   "outputs": [],
   "source": [
    "if _debug:\n",
    "    print(kw[0])"
   ]
  },
  {
   "cell_type": "code",
   "execution_count": 19,
   "id": "5af0d1d9-269c-4d66-b468-9d511fdd3210",
   "metadata": {},
   "outputs": [],
   "source": [
    "# Convert delimited strings into lists; and keep unique strings. \n",
    "list_all = kw.str.split(',')\n",
    "list_unique = []\n",
    "for i, v in enumerate(list_all):\n",
    "    list_unique.append(list(set(list_all[i])))   "
   ]
  },
  {
   "cell_type": "code",
   "execution_count": 20,
   "id": "06d48267-970c-44c6-bef4-66acb4bcc304",
   "metadata": {},
   "outputs": [],
   "source": [
    "if _debug:\n",
    "    n=1\n",
    "    print(list_unique[n])\n",
    "    print(list_all[n])\n",
    "    print(len(list_unique))"
   ]
  },
  {
   "cell_type": "code",
   "execution_count": 21,
   "id": "ba68724d-76f6-4d81-979a-30840d589fba",
   "metadata": {},
   "outputs": [],
   "source": [
    "df['unique_keywords']=list_unique\n",
    "del kw, list_all, list_unique"
   ]
  },
  {
   "cell_type": "code",
   "execution_count": 22,
   "id": "189ffb74-ad43-4412-8aa9-bb011aab20ed",
   "metadata": {},
   "outputs": [
    {
     "data": {
      "text/html": [
       "<div>\n",
       "<style scoped>\n",
       "    .dataframe tbody tr th:only-of-type {\n",
       "        vertical-align: middle;\n",
       "    }\n",
       "\n",
       "    .dataframe tbody tr th {\n",
       "        vertical-align: top;\n",
       "    }\n",
       "\n",
       "    .dataframe thead th {\n",
       "        text-align: right;\n",
       "    }\n",
       "</style>\n",
       "<table border=\"1\" class=\"dataframe\">\n",
       "  <thead>\n",
       "    <tr style=\"text-align: right;\">\n",
       "      <th></th>\n",
       "      <th>0</th>\n",
       "    </tr>\n",
       "  </thead>\n",
       "  <tbody>\n",
       "    <tr>\n",
       "      <th>articletype_id</th>\n",
       "      <td>13.0</td>\n",
       "    </tr>\n",
       "    <tr>\n",
       "      <th>sdg_lst</th>\n",
       "      <td>2, 14</td>\n",
       "    </tr>\n",
       "    <tr>\n",
       "      <th>ptr_id</th>\n",
       "      <td>13</td>\n",
       "    </tr>\n",
       "    <tr>\n",
       "      <th>authors</th>\n",
       "      <td>{\"Jansen, Jonathan D.\"}</td>\n",
       "    </tr>\n",
       "    <tr>\n",
       "      <th>title</th>\n",
       "      <td>Autonomy and accountability in the regulation ...</td>\n",
       "    </tr>\n",
       "    <tr>\n",
       "      <th>content</th>\n",
       "      <td>This article examines the struggles of the Sou...</td>\n",
       "    </tr>\n",
       "    <tr>\n",
       "      <th>keywords</th>\n",
       "      <td>{Autonomy,Learning,Performance,Teaching,\"Gover...</td>\n",
       "    </tr>\n",
       "    <tr>\n",
       "      <th>lang</th>\n",
       "      <td>en</td>\n",
       "    </tr>\n",
       "    <tr>\n",
       "      <th>date</th>\n",
       "      <td>2006-01-27</td>\n",
       "    </tr>\n",
       "    <tr>\n",
       "      <th>issn</th>\n",
       "      <td>0</td>\n",
       "    </tr>\n",
       "    <tr>\n",
       "      <th>doi</th>\n",
       "      <td>0</td>\n",
       "    </tr>\n",
       "    <tr>\n",
       "      <th>handle</th>\n",
       "      <td>http://hdl.handle.net/2263/116</td>\n",
       "    </tr>\n",
       "    <tr>\n",
       "      <th>institution_id</th>\n",
       "      <td>1</td>\n",
       "    </tr>\n",
       "    <tr>\n",
       "      <th>institution</th>\n",
       "      <td>University of Pretoria</td>\n",
       "    </tr>\n",
       "    <tr>\n",
       "      <th>active</th>\n",
       "      <td>t</td>\n",
       "    </tr>\n",
       "    <tr>\n",
       "      <th>unique_keywords</th>\n",
       "      <td>[Autonomy, Government regulation, Learning, Te...</td>\n",
       "    </tr>\n",
       "  </tbody>\n",
       "</table>\n",
       "</div>"
      ],
      "text/plain": [
       "                                                                 0\n",
       "articletype_id                                                13.0\n",
       "sdg_lst                                                      2, 14\n",
       "ptr_id                                                          13\n",
       "authors                                    {\"Jansen, Jonathan D.\"}\n",
       "title            Autonomy and accountability in the regulation ...\n",
       "content          This article examines the struggles of the Sou...\n",
       "keywords         {Autonomy,Learning,Performance,Teaching,\"Gover...\n",
       "lang                                                            en\n",
       "date                                                    2006-01-27\n",
       "issn                                                             0\n",
       "doi                                                              0\n",
       "handle                              http://hdl.handle.net/2263/116\n",
       "institution_id                                                   1\n",
       "institution                                 University of Pretoria\n",
       "active                                                           t\n",
       "unique_keywords  [Autonomy, Government regulation, Learning, Te..."
      ]
     },
     "execution_count": 22,
     "metadata": {},
     "output_type": "execute_result"
    }
   ],
   "source": [
    "df.head(1).T"
   ]
  },
  {
   "cell_type": "markdown",
   "id": "352a4389-f20a-4be0-bdd9-827898ef56c8",
   "metadata": {},
   "source": [
    "### Convert sdg text into lists"
   ]
  },
  {
   "cell_type": "code",
   "execution_count": 23,
   "id": "ad682058-fcf3-41a8-81ed-3d7c17f3cca0",
   "metadata": {},
   "outputs": [],
   "source": [
    "sdg=df.sdg_lst"
   ]
  },
  {
   "cell_type": "code",
   "execution_count": 24,
   "id": "bf9313f2-db8b-4d3a-96d7-0a810d699d09",
   "metadata": {},
   "outputs": [],
   "source": [
    "# list of strings\n",
    "list_all = sdg.str.split(',')\n",
    "\n",
    "#ToDo better code needed here\n",
    "# list of integers \n",
    "n=0\n",
    "list_int = []\n",
    "for i, v1 in enumerate(list_all):\n",
    "    lst = []\n",
    "    \n",
    "    try:\n",
    "        for j, v2 in enumerate(list_all[i]):\n",
    "            lst.append(int(v2))\n",
    "        n=+1\n",
    "    except:\n",
    "        print('skip: ', i, n, list_all[i])\n",
    "    \n",
    "    list_int.append(lst)  \n",
    "\n",
    "if _debug:\n",
    "    print(list_all[0])\n",
    "    print(list_int[0])\n",
    "    \n",
    "#append to df\n",
    "df['sdg_ints']=list_int\n",
    "del sdg, list_all, list_int"
   ]
  },
  {
   "cell_type": "code",
   "execution_count": 25,
   "id": "912f94bb-ac8f-4a0d-9f74-6249b8ac3d13",
   "metadata": {},
   "outputs": [
    {
     "data": {
      "text/plain": [
       "Index(['articletype_id', 'sdg_lst', 'ptr_id', 'authors', 'title', 'content',\n",
       "       'keywords', 'lang', 'date', 'issn', 'doi', 'handle', 'institution_id',\n",
       "       'institution', 'active', 'unique_keywords', 'sdg_ints'],\n",
       "      dtype='object')"
      ]
     },
     "execution_count": 25,
     "metadata": {},
     "output_type": "execute_result"
    }
   ],
   "source": [
    "df.columns"
   ]
  },
  {
   "cell_type": "code",
   "execution_count": null,
   "id": "d0c04bce-26e3-4209-b65d-1354bf5b25c4",
   "metadata": {},
   "outputs": [],
   "source": []
  },
  {
   "cell_type": "markdown",
   "id": "9a555646-eaa5-4fcd-9414-cab046891b95",
   "metadata": {},
   "source": [
    "### Counts"
   ]
  },
  {
   "cell_type": "code",
   "execution_count": 26,
   "id": "48a408b0-f55a-4eb1-8389-7c4d7a9d17a8",
   "metadata": {},
   "outputs": [],
   "source": [
    "# Counts\n",
    "c_lang = df.lang.value_counts()\n",
    "c_authors = df.authors.value_counts()\n",
    "c_title = df.title.value_counts()"
   ]
  },
  {
   "cell_type": "code",
   "execution_count": 27,
   "id": "4a0f9e96-07e8-420a-a997-1b21436ccb5e",
   "metadata": {},
   "outputs": [
    {
     "data": {
      "text/plain": [
       "0             122807\n",
       "en             39746\n",
       "en_US          24287\n",
       "eng            16322\n",
       "jpn             2747\n",
       "en_ZA            969\n",
       "en_AU            844\n",
       "Afrikaans        416\n",
       "af               314\n",
       "English          112\n",
       "other            103\n",
       "Dutch             38\n",
       "af_ZA             31\n",
       "de                17\n",
       "fr                11\n",
       "fra               10\n",
       "it                 5\n",
       "es                 4\n",
       "Spanish            3\n",
       "Greek              3\n",
       "zho                2\n",
       "spa                2\n",
       "nl                 2\n",
       "ja                 1\n",
       "kor                1\n",
       "Chinese            1\n",
       "Language           1\n",
       "Portuguese         1\n",
       "en_GB              1\n",
       "German             1\n",
       "Sepedi             1\n",
       "Afr                1\n",
       "afr                1\n",
       "zh                 1\n",
       "Name: lang, dtype: int64"
      ]
     },
     "execution_count": 27,
     "metadata": {},
     "output_type": "execute_result"
    }
   ],
   "source": [
    "c_lang "
   ]
  },
  {
   "cell_type": "code",
   "execution_count": 28,
   "id": "7affe15a-8e9f-4b61-821b-5ea2aa17fd21",
   "metadata": {},
   "outputs": [
    {
     "data": {
      "text/plain": [
       "{\"Taylor, Frank E.\"}                                                                                                                                                                                                                                                                                                                                                                                                                                                                                                                                                                                                                                                                                                                                                                                                                                                                                                                                                                                                                                                                                                                                                                                        303\n",
       "{\"Gomez-Ceballos, Guillelmo\",\"Goncharov, Maxim\",\"Paus, Christoph M. E.\"}                                                                                                                                                                                                                                                                                                                                                                                                                                                                                                                                                                                                                                                                                                                                                                                                                                                                                                                                                                                                                                                                                                                                     85\n",
       "{\"Taylor, Frank E\"}                                                                                                                                                                                                                                                                                                                                                                                                                                                                                                                                                                                                                                                                                                                                                                                                                                                                                                                                                                                                                                                                                                                                                                                          83\n",
       "{\"Williams, Michael\"}                                                                                                                                                                                                                                                                                                                                                                                                                                                                                                                                                                                                                                                                                                                                                                                                                                                                                                                                                                                                                                                                                                                                                                                        58\n",
       "{\"Cowan, Ray Franklin\",\"Dujmic, Denis\",\"Sciolla, Gabriella\"}                                                                                                                                                                                                                                                                                                                                                                                                                                                                                                                                                                                                                                                                                                                                                                                                                                                                                                                                                                                                                                                                                                                                                 50\n",
       "                                                                                                                                                                                                                                                                                                                                                                                                                                                                                                                                                                                                                                                                                                                                                                                                                                                                                                                                                                                                                                                                                                                                                                                                           ... \n",
       "{\"Virdee, Satnam K\",\"Greenfield, Sheila M\",\"Fletcher, Kate\",\"McManus, Richard J\",\"Hobbs, FD Richard\",\"Mant, Jonathan\"}                                                                                                                                                                                                                                                                                                                                                                                                                                                                                                                                                                                                                                                                                                                                                                                                                                                                                                                                                                                                                                                                                        1\n",
       "{\"Mavaddat, Nahal\",\"Van der Linde, Rianne\",\"Savva, George M\",\"Brayne, Carol\",\"Mant, Jonathan\"}                                                                                                                                                                                                                                                                                                                                                                                                                                                                                                                                                                                                                                                                                                                                                                                                                                                                                                                                                                                                                                                                                                                1\n",
       "{\"Edwards, Duncan\",\"Cohn, Simon\",\"Mavaddat, Nahal\",\"Virdee, Satnam K\",\"Lasserson, Daniel\",\"Milner, Siobhan\",\"Giles, Matthew\",\"McManus, Richard\",\"Mant, Jonathan\"}                                                                                                                                                                                                                                                                                                                                                                                                                                                                                                                                                                                                                                                                                                                                                                                                                                                                                                                                                                                                                                             1\n",
       "{\"Freedman, Ben\",\"Camm, John\",\"Calkins, Hugh\",\"Healey, Jeffrey S\",\"Rosenqvist, Mårten\",\"Wang, Jiguang\",\"Albert, Christine M\",\"Anderson, Craig S\",\"Antoniou, Sotiris\",\"Benjamin, Emelia J\",\"Boriani, Giuseppe\",\"Brachmann, Johannes\",\"Brandes, Axel\",\"Chao, Tze-Fan\",\"Conen, David\",\"Engdahl, Johan\",\"Fauchier, Laurent\",\"Fitzmaurice, David A\",\"Friberg, Leif\",\"Gersh, Bernard J\",\"Gladstone, David J\",\"Glotzer, Taya V\",\"Gwynne, Kylie\",\"Hankey, Graeme J\",\"Harbison, Joseph\",\"Hillis, Graham S\",\"Hills, Mellanie T\",\"Kamel, Hooman\",\"Kirchhof, Paulus\",\"Kowey, Peter R\",\"Krieger, Derk\",\"Lee, Vivian WY\",\"Levin, Lars-Åke\",\"Lip, Gregory YH\",\"Lobban, Trudie\",\"Lowres, Nicole\",\"Mairesse, Georges H\",\"Martinez, Carlos\",\"Neubeck, Lis\",\"Orchard, Jessica\",\"Piccini, Jonathan P\",\"Poppe, Katrina\",\"Potpara, Tatjana S\",\"Puererfellner, Helmut\",\"Rienstra, Michiel\",\"Sandhu, Roopinder K\",\"Schnabel, Renate B\",\"Siu, Chung-Wah\",\"Steinhubl, Steven\",\"Svendsen, Jesper H\",\"Svennberg, Emma\",\"Themistoclakis, Sakis\",\"Tieleman, Robert G\",\"Turakhia, Mintu P\",\"Tveit, Arnljot\",\"Uittenbogaart, Steven B\",\"Van Gelder, Isabelle C\",\"Verma, Atul\",\"Wachter, Rolf\",\"Yan, Bryan P\",\"AF-Screen Collaborators,\"}      1\n",
       "{\"Ekman, Annaleigh Yahata\"}                                                                                                                                                                                                                                                                                                                                                                                                                                                                                                                                                                                                                                                                                                                                                                                                                                                                                                                                                                                                                                                                                                                                                                                   1\n",
       "Name: authors, Length: 190360, dtype: int64"
      ]
     },
     "execution_count": 28,
     "metadata": {},
     "output_type": "execute_result"
    }
   ],
   "source": [
    "c_authors"
   ]
  },
  {
   "cell_type": "code",
   "execution_count": 29,
   "id": "9cb20326-f811-4707-a6c8-4b05b85f0e6c",
   "metadata": {},
   "outputs": [
    {
     "data": {
      "text/plain": [
       "Editorial                                                                                                                                          18\n",
       "2021 roadmap for sodium-ion batteries                                                                                                              10\n",
       "Search for the HH → b b ¯ b b ¯ process via vector-boson fusion production using proton-proton collisions at s = 13 TeV with the ATLAS detector     9\n",
       "Higgs boson production cross-section measurements and their EFT interpretation in the 4 ℓ decay channel at s = 13 TeV with the ATLAS detector       7\n",
       "Study of B s 0 → J / ψπ + π − K + K − decays                                                                                                        7\n",
       "                                                                                                                                                   ..\n",
       "Citron kinase - renaissance of a neglected mitotic kinase                                                                                           1\n",
       "Subtle Differences among 5-HT<inf>3</inf>AC, 5-HT<inf>3</inf>AD, and 5-HT<inf>3</inf>AE Receptors Are Revealed by Partial Agonists                  1\n",
       "Nonenzymatic gluconeogenesis-like formation of fructose 1,6-bisphosphate in ice                                                                     1\n",
       "NK cell allorecognition.                                                                                                                            1\n",
       "Meeting Travel Needs: Becoming Reacquainted with a Community’s Unmet Travel Needs                                                                   1\n",
       "Name: title, Length: 203743, dtype: int64"
      ]
     },
     "execution_count": 29,
     "metadata": {},
     "output_type": "execute_result"
    }
   ],
   "source": [
    "c_title"
   ]
  },
  {
   "cell_type": "code",
   "execution_count": null,
   "id": "68448a6f-1981-46d6-ba76-1bf8bad875c9",
   "metadata": {},
   "outputs": [],
   "source": []
  }
 ],
 "metadata": {
  "kernelspec": {
   "display_name": "Python 3 (ipykernel)",
   "language": "python",
   "name": "python3"
  },
  "language_info": {
   "codemirror_mode": {
    "name": "ipython",
    "version": 3
   },
   "file_extension": ".py",
   "mimetype": "text/x-python",
   "name": "python",
   "nbconvert_exporter": "python",
   "pygments_lexer": "ipython3",
   "version": "3.8.7"
  }
 },
 "nbformat": 4,
 "nbformat_minor": 5
}
