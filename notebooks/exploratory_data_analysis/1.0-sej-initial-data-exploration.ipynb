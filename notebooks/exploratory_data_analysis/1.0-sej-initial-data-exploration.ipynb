{
 "cells": [
  {
   "cell_type": "markdown",
   "id": "2ec33d00-0bc6-4856-8e10-db98697b063d",
   "metadata": {},
   "source": [
    "# Global Variables"
   ]
  },
  {
   "cell_type": "code",
   "execution_count": 1,
   "id": "ee7e07f9-9473-4042-bf0f-54de0838736b",
   "metadata": {},
   "outputs": [],
   "source": [
    "_debug=False\n",
    "nb_name = \"1.0-sej-initial-data-exploration\"\n",
    "fn_data = \"query-sdg-full_20220313.csv\""
   ]
  },
  {
   "cell_type": "markdown",
   "id": "21a04718-611c-4f79-8d1f-dd9edf65bca4",
   "metadata": {},
   "source": [
    "# Import Data"
   ]
  },
  {
   "cell_type": "code",
   "execution_count": 2,
   "id": "786e7f78-cc87-413d-b7b8-f932b9c5b853",
   "metadata": {},
   "outputs": [],
   "source": [
    "# Read source Excel\n",
    "import pandas as pd\n",
    "df = pd.read_csv('../../data/raw/' + fn_data, sep='|', header=0, \n",
    "                dtype = {'issn': str, 'doi': str})"
   ]
  },
  {
   "cell_type": "code",
   "execution_count": 3,
   "id": "3ebd8744-0ff1-48fd-b937-ad74ebc1d868",
   "metadata": {},
   "outputs": [
    {
     "data": {
      "text/html": [
       "<div>\n",
       "<style scoped>\n",
       "    .dataframe tbody tr th:only-of-type {\n",
       "        vertical-align: middle;\n",
       "    }\n",
       "\n",
       "    .dataframe tbody tr th {\n",
       "        vertical-align: top;\n",
       "    }\n",
       "\n",
       "    .dataframe thead th {\n",
       "        text-align: right;\n",
       "    }\n",
       "</style>\n",
       "<table border=\"1\" class=\"dataframe\">\n",
       "  <thead>\n",
       "    <tr style=\"text-align: right;\">\n",
       "      <th></th>\n",
       "      <th>articletype_id</th>\n",
       "      <th>sdg_lst</th>\n",
       "      <th>ptr_id</th>\n",
       "      <th>authors</th>\n",
       "      <th>title</th>\n",
       "      <th>content</th>\n",
       "      <th>keywords</th>\n",
       "      <th>lang</th>\n",
       "      <th>date</th>\n",
       "      <th>issn</th>\n",
       "      <th>doi</th>\n",
       "      <th>handle</th>\n",
       "      <th>institution_id</th>\n",
       "      <th>institution</th>\n",
       "      <th>active</th>\n",
       "    </tr>\n",
       "  </thead>\n",
       "  <tbody>\n",
       "    <tr>\n",
       "      <th>0</th>\n",
       "      <td>13.0</td>\n",
       "      <td>14, 2</td>\n",
       "      <td>13</td>\n",
       "      <td>{\"Jansen, Jonathan D.\"}</td>\n",
       "      <td>Autonomy and accountability in the regulation ...</td>\n",
       "      <td>This article examines the struggles of the Sou...</td>\n",
       "      <td>{Autonomy,Learning,Performance,Teaching,\"Gover...</td>\n",
       "      <td>en</td>\n",
       "      <td>2006-01-27</td>\n",
       "      <td>NaN</td>\n",
       "      <td>NaN</td>\n",
       "      <td>http://hdl.handle.net/2263/116</td>\n",
       "      <td>1</td>\n",
       "      <td>University of Pretoria</td>\n",
       "      <td>t</td>\n",
       "    </tr>\n",
       "    <tr>\n",
       "      <th>1</th>\n",
       "      <td>14.0</td>\n",
       "      <td>2</td>\n",
       "      <td>14</td>\n",
       "      <td>{\"Jansen, Jonathan D.\"}</td>\n",
       "      <td>Intellectuals under fire</td>\n",
       "      <td>Looks at the status of intellectuals in South ...</td>\n",
       "      <td>{\"Cultural policy\",Democracy,\"Political system...</td>\n",
       "      <td>en</td>\n",
       "      <td>2006-01-27</td>\n",
       "      <td>NaN</td>\n",
       "      <td>NaN</td>\n",
       "      <td>http://hdl.handle.net/2263/117</td>\n",
       "      <td>1</td>\n",
       "      <td>University of Pretoria</td>\n",
       "      <td>t</td>\n",
       "    </tr>\n",
       "  </tbody>\n",
       "</table>\n",
       "</div>"
      ],
      "text/plain": [
       "   articletype_id sdg_lst  ptr_id                  authors  \\\n",
       "0            13.0   14, 2      13  {\"Jansen, Jonathan D.\"}   \n",
       "1            14.0       2      14  {\"Jansen, Jonathan D.\"}   \n",
       "\n",
       "                                               title  \\\n",
       "0  Autonomy and accountability in the regulation ...   \n",
       "1                           Intellectuals under fire   \n",
       "\n",
       "                                             content  \\\n",
       "0  This article examines the struggles of the Sou...   \n",
       "1  Looks at the status of intellectuals in South ...   \n",
       "\n",
       "                                            keywords lang        date issn  \\\n",
       "0  {Autonomy,Learning,Performance,Teaching,\"Gover...   en  2006-01-27  NaN   \n",
       "1  {\"Cultural policy\",Democracy,\"Political system...   en  2006-01-27  NaN   \n",
       "\n",
       "   doi                          handle  institution_id  \\\n",
       "0  NaN  http://hdl.handle.net/2263/116               1   \n",
       "1  NaN  http://hdl.handle.net/2263/117               1   \n",
       "\n",
       "              institution active  \n",
       "0  University of Pretoria      t  \n",
       "1  University of Pretoria      t  "
      ]
     },
     "execution_count": 3,
     "metadata": {},
     "output_type": "execute_result"
    }
   ],
   "source": [
    "# Source sample\n",
    "df.head(2)"
   ]
  },
  {
   "cell_type": "code",
   "execution_count": 4,
   "id": "7091afc4-4c59-49b4-ad3f-9175ba601a66",
   "metadata": {},
   "outputs": [
    {
     "name": "stdout",
     "output_type": "stream",
     "text": [
      "Title:\n",
      " Autonomy and accountability in the regulation of the teaching profession : a South African case study \n",
      "\n",
      " Content:\n",
      " This article examines the struggles of the South African government to establish school-wide evaluation policies within post-apartheid institutions. It is demonstrated that even when such evaluation policies promise teacher development and whole-school improvement, there is significant resistance to government intervention in the school environment. It is also shown that even when individual schools express a willingness to participate in such evaluation actions, they remain deeply suspicious of, and even subvert, the original goals of these policies. The explanation for such behaviour is lodged within the troubled history of the apartheid inspection system, on the one hand, and on the underestimation in policy design of the deep-rooted suspicions of state surveillance systems even under the terms of a new democracy. In conclusion, the article shows how this fierce--though understandable--contestation of school-level autonomy actually works against the long-term developmental interests of both teachers and learners in South Africa's 29,000 schools.\n"
     ]
    }
   ],
   "source": [
    "n=0\n",
    "print('Title:\\n', df.title[n], '\\n\\n', 'Content:\\n',  df.content[n])"
   ]
  },
  {
   "cell_type": "markdown",
   "id": "529960cc-d5ce-475e-8a99-0ca7e0af599b",
   "metadata": {},
   "source": [
    "# Evaluate Data Quality"
   ]
  },
  {
   "cell_type": "code",
   "execution_count": 5,
   "id": "291891d4-9d2b-4acd-bb5e-307e5356342f",
   "metadata": {},
   "outputs": [
    {
     "data": {
      "text/plain": [
       "True"
      ]
     },
     "execution_count": 5,
     "metadata": {},
     "output_type": "execute_result"
    }
   ],
   "source": [
    "# Unique ID\n",
    "df.ptr_id.is_unique"
   ]
  },
  {
   "cell_type": "code",
   "execution_count": 6,
   "id": "78272375-8edc-4910-b7c1-77a5987eb535",
   "metadata": {},
   "outputs": [
    {
     "data": {
      "text/plain": [
       "True"
      ]
     },
     "execution_count": 6,
     "metadata": {},
     "output_type": "execute_result"
    }
   ],
   "source": [
    "# Unique ID (Main primary key)\n",
    "df.articletype_id.is_unique"
   ]
  },
  {
   "cell_type": "code",
   "execution_count": 7,
   "id": "8d8c0ada-5dff-4630-a492-52cf48eb4f96",
   "metadata": {},
   "outputs": [
    {
     "name": "stdout",
     "output_type": "stream",
     "text": [
      "Columns with nulls:\n",
      " articletype_id         1\n",
      "sdg_lst                1\n",
      "content               23\n",
      "lang              122807\n",
      "issn              103329\n",
      "doi               195081\n",
      "dtype: int64\n"
     ]
    }
   ],
   "source": [
    "# Check for nulls and fill \n",
    "null_columns=df.columns[df.isnull().any()]\n",
    "print('Columns with nulls:\\n', df[null_columns].isnull().sum())\n",
    "for col in null_columns:\n",
    "    df[col]=df[col].fillna(0)"
   ]
  },
  {
   "cell_type": "raw",
   "id": "e81d30cb-9b55-4ea0-a3bd-5bc412708835",
   "metadata": {},
   "source": [
    "null_columns=df.columns[df.isnull().any()]\n",
    "print('Columns with nulls:\\n', df[null_columns].isnull().sum())"
   ]
  },
  {
   "cell_type": "code",
   "execution_count": 8,
   "id": "65c561f1-51aa-4dfd-88d0-92654d4035df",
   "metadata": {},
   "outputs": [
    {
     "name": "stdout",
     "output_type": "stream",
     "text": [
      "(0, 15)\n"
     ]
    }
   ],
   "source": [
    "# Check for na and drop na values\n",
    "df1 = df[df.isna().any(axis=1)]\n",
    "print(df1.shape)\n",
    "del df1\n",
    "df = df.dropna()"
   ]
  },
  {
   "cell_type": "code",
   "execution_count": 9,
   "id": "7f0283dc-c7b1-4ae5-8b2e-a240791e0d54",
   "metadata": {},
   "outputs": [
    {
     "name": "stdout",
     "output_type": "stream",
     "text": [
      "count mismatchees: (1, 15)\n"
     ]
    }
   ],
   "source": [
    "# Check sum: ptr_id should equal articletype_id\n",
    "print('count mismatchees:', df.loc[ (df.ptr_id != df.articletype_id)].shape)\n",
    "if _debug:\n",
    "    print(df.loc[ (df.ptr_id != df.articletype_id)])\n",
    "    print('shape', df.shape)\n",
    "    print('drop', df.drop(df[ (df.ptr_id != df.articletype_id) ].index, inplace = True))\n",
    "df.drop(df[ (df.ptr_id != df.articletype_id) ].index, inplace = True)"
   ]
  },
  {
   "cell_type": "code",
   "execution_count": 10,
   "id": "969d7af3-a9ab-4e53-b634-900f491cb338",
   "metadata": {},
   "outputs": [
    {
     "data": {
      "text/plain": [
       "(208806, 15)"
      ]
     },
     "execution_count": 10,
     "metadata": {},
     "output_type": "execute_result"
    }
   ],
   "source": [
    "# Final dataset shape\n",
    "df.shape"
   ]
  },
  {
   "cell_type": "markdown",
   "id": "122e72c1-5565-4207-960a-36745a7cb938",
   "metadata": {},
   "source": [
    "### Clean up keywords feature to have unique phrases."
   ]
  },
  {
   "cell_type": "code",
   "execution_count": 11,
   "id": "e41b2bc9-f7de-45a9-b1bf-8641ab7ac687",
   "metadata": {},
   "outputs": [],
   "source": [
    "kw=df.keywords"
   ]
  },
  {
   "cell_type": "code",
   "execution_count": 12,
   "id": "38191634-d17c-4c43-9dd6-3bb54d583bd8",
   "metadata": {},
   "outputs": [],
   "source": [
    "if _debug:\n",
    "    print(kw[0])"
   ]
  },
  {
   "cell_type": "code",
   "execution_count": 13,
   "id": "92d4f910-cd76-4fe0-b53a-618d88214444",
   "metadata": {},
   "outputs": [],
   "source": [
    "# strip left of '{'\n",
    "left=kw.str.split('{').str[1]\n",
    "# strip right of '}'\n",
    "right=left.str.split('}').str[0]\n",
    "kw=right.str.replace('\"', \"\")"
   ]
  },
  {
   "cell_type": "code",
   "execution_count": 14,
   "id": "b5518bad-c259-4a70-ac24-3af5e7aa9276",
   "metadata": {},
   "outputs": [],
   "source": [
    "if _debug:\n",
    "    print(kw[0])"
   ]
  },
  {
   "cell_type": "code",
   "execution_count": 15,
   "id": "5af0d1d9-269c-4d66-b468-9d511fdd3210",
   "metadata": {},
   "outputs": [],
   "source": [
    "# Convert delimited strings into lists; and keep unique strings. \n",
    "list_all = kw.str.split(',')\n",
    "list_unique = []\n",
    "for i, v in enumerate(list_all):\n",
    "    list_unique.append(list(set(list_all[i])))   "
   ]
  },
  {
   "cell_type": "code",
   "execution_count": 16,
   "id": "06d48267-970c-44c6-bef4-66acb4bcc304",
   "metadata": {},
   "outputs": [],
   "source": [
    "if _debug:\n",
    "    n=1\n",
    "    print(list_unique[n])\n",
    "    print(list_all[n])\n",
    "    print(len(list_unique))"
   ]
  },
  {
   "cell_type": "code",
   "execution_count": 17,
   "id": "ba68724d-76f6-4d81-979a-30840d589fba",
   "metadata": {},
   "outputs": [],
   "source": [
    "df['unique_keywords']=list_unique\n",
    "del kw, list_all, list_unique"
   ]
  },
  {
   "cell_type": "code",
   "execution_count": 18,
   "id": "189ffb74-ad43-4412-8aa9-bb011aab20ed",
   "metadata": {},
   "outputs": [
    {
     "data": {
      "text/html": [
       "<div>\n",
       "<style scoped>\n",
       "    .dataframe tbody tr th:only-of-type {\n",
       "        vertical-align: middle;\n",
       "    }\n",
       "\n",
       "    .dataframe tbody tr th {\n",
       "        vertical-align: top;\n",
       "    }\n",
       "\n",
       "    .dataframe thead th {\n",
       "        text-align: right;\n",
       "    }\n",
       "</style>\n",
       "<table border=\"1\" class=\"dataframe\">\n",
       "  <thead>\n",
       "    <tr style=\"text-align: right;\">\n",
       "      <th></th>\n",
       "      <th>0</th>\n",
       "    </tr>\n",
       "  </thead>\n",
       "  <tbody>\n",
       "    <tr>\n",
       "      <th>articletype_id</th>\n",
       "      <td>13.0</td>\n",
       "    </tr>\n",
       "    <tr>\n",
       "      <th>sdg_lst</th>\n",
       "      <td>14, 2</td>\n",
       "    </tr>\n",
       "    <tr>\n",
       "      <th>ptr_id</th>\n",
       "      <td>13</td>\n",
       "    </tr>\n",
       "    <tr>\n",
       "      <th>authors</th>\n",
       "      <td>{\"Jansen, Jonathan D.\"}</td>\n",
       "    </tr>\n",
       "    <tr>\n",
       "      <th>title</th>\n",
       "      <td>Autonomy and accountability in the regulation ...</td>\n",
       "    </tr>\n",
       "    <tr>\n",
       "      <th>content</th>\n",
       "      <td>This article examines the struggles of the Sou...</td>\n",
       "    </tr>\n",
       "    <tr>\n",
       "      <th>keywords</th>\n",
       "      <td>{Autonomy,Learning,Performance,Teaching,\"Gover...</td>\n",
       "    </tr>\n",
       "    <tr>\n",
       "      <th>lang</th>\n",
       "      <td>en</td>\n",
       "    </tr>\n",
       "    <tr>\n",
       "      <th>date</th>\n",
       "      <td>2006-01-27</td>\n",
       "    </tr>\n",
       "    <tr>\n",
       "      <th>issn</th>\n",
       "      <td>0</td>\n",
       "    </tr>\n",
       "    <tr>\n",
       "      <th>doi</th>\n",
       "      <td>0</td>\n",
       "    </tr>\n",
       "    <tr>\n",
       "      <th>handle</th>\n",
       "      <td>http://hdl.handle.net/2263/116</td>\n",
       "    </tr>\n",
       "    <tr>\n",
       "      <th>institution_id</th>\n",
       "      <td>1</td>\n",
       "    </tr>\n",
       "    <tr>\n",
       "      <th>institution</th>\n",
       "      <td>University of Pretoria</td>\n",
       "    </tr>\n",
       "    <tr>\n",
       "      <th>active</th>\n",
       "      <td>t</td>\n",
       "    </tr>\n",
       "    <tr>\n",
       "      <th>unique_keywords</th>\n",
       "      <td>[Performance, Democracy, Political interferenc...</td>\n",
       "    </tr>\n",
       "  </tbody>\n",
       "</table>\n",
       "</div>"
      ],
      "text/plain": [
       "                                                                 0\n",
       "articletype_id                                                13.0\n",
       "sdg_lst                                                      14, 2\n",
       "ptr_id                                                          13\n",
       "authors                                    {\"Jansen, Jonathan D.\"}\n",
       "title            Autonomy and accountability in the regulation ...\n",
       "content          This article examines the struggles of the Sou...\n",
       "keywords         {Autonomy,Learning,Performance,Teaching,\"Gover...\n",
       "lang                                                            en\n",
       "date                                                    2006-01-27\n",
       "issn                                                             0\n",
       "doi                                                              0\n",
       "handle                              http://hdl.handle.net/2263/116\n",
       "institution_id                                                   1\n",
       "institution                                 University of Pretoria\n",
       "active                                                           t\n",
       "unique_keywords  [Performance, Democracy, Political interferenc..."
      ]
     },
     "execution_count": 18,
     "metadata": {},
     "output_type": "execute_result"
    }
   ],
   "source": [
    "df.head(1).T"
   ]
  },
  {
   "cell_type": "markdown",
   "id": "352a4389-f20a-4be0-bdd9-827898ef56c8",
   "metadata": {},
   "source": [
    "### Convert sdg text into lists"
   ]
  },
  {
   "cell_type": "code",
   "execution_count": 19,
   "id": "ad682058-fcf3-41a8-81ed-3d7c17f3cca0",
   "metadata": {},
   "outputs": [],
   "source": [
    "sdg=df.sdg_lst"
   ]
  },
  {
   "cell_type": "code",
   "execution_count": 20,
   "id": "bf9313f2-db8b-4d3a-96d7-0a810d699d09",
   "metadata": {},
   "outputs": [],
   "source": [
    "# list of strings\n",
    "list_all = sdg.str.split(',')\n",
    "\n",
    "#ToDo better code needed here\n",
    "# list of integers \n",
    "n=0\n",
    "list_int = []\n",
    "for i, v1 in enumerate(list_all):\n",
    "    lst = []\n",
    "    \n",
    "    try:\n",
    "        for j, v2 in enumerate(list_all[i]):\n",
    "            lst.append(int(v2))\n",
    "        n=+1\n",
    "    except:\n",
    "        print('skip: ', i, n, list_all[i])\n",
    "    \n",
    "    list_int.append(lst)  \n",
    "\n",
    "if _debug:\n",
    "    print(list_all[0])\n",
    "    print(list_int[0])\n",
    "    \n",
    "#append to df\n",
    "df['sdg_ints']=list_int\n",
    "del sdg, list_all, list_int"
   ]
  },
  {
   "cell_type": "markdown",
   "id": "fd2ef69d-930f-401d-b6f2-f3c763673f4c",
   "metadata": {
    "tags": []
   },
   "source": [
    "# EDA high level"
   ]
  },
  {
   "cell_type": "code",
   "execution_count": 21,
   "id": "912f94bb-ac8f-4a0d-9f74-6249b8ac3d13",
   "metadata": {},
   "outputs": [
    {
     "data": {
      "text/plain": [
       "Index(['articletype_id', 'sdg_lst', 'ptr_id', 'authors', 'title', 'content',\n",
       "       'keywords', 'lang', 'date', 'issn', 'doi', 'handle', 'institution_id',\n",
       "       'institution', 'active', 'unique_keywords', 'sdg_ints'],\n",
       "      dtype='object')"
      ]
     },
     "execution_count": 21,
     "metadata": {},
     "output_type": "execute_result"
    }
   ],
   "source": [
    "df.columns"
   ]
  },
  {
   "cell_type": "code",
   "execution_count": null,
   "id": "d0c04bce-26e3-4209-b65d-1354bf5b25c4",
   "metadata": {},
   "outputs": [],
   "source": []
  },
  {
   "cell_type": "markdown",
   "id": "9a555646-eaa5-4fcd-9414-cab046891b95",
   "metadata": {},
   "source": [
    "### Counts"
   ]
  },
  {
   "cell_type": "code",
   "execution_count": 22,
   "id": "48a408b0-f55a-4eb1-8389-7c4d7a9d17a8",
   "metadata": {},
   "outputs": [],
   "source": [
    "# Counts\n",
    "c_lang = df.lang.value_counts()\n",
    "c_authors = df.authors.value_counts()\n",
    "c_title = df.title.value_counts()"
   ]
  },
  {
   "cell_type": "code",
   "execution_count": 33,
   "id": "4a0f9e96-07e8-420a-a997-1b21436ccb5e",
   "metadata": {},
   "outputs": [
    {
     "data": {
      "text/plain": [
       "0             122807\n",
       "en             39746\n",
       "en_US          24287\n",
       "eng            16322\n",
       "jpn             2747\n",
       "en_ZA            969\n",
       "en_AU            844\n",
       "Afrikaans        416\n",
       "af               314\n",
       "English          112\n",
       "other            103\n",
       "Dutch             38\n",
       "af_ZA             31\n",
       "de                17\n",
       "fr                11\n",
       "fra               10\n",
       "it                 5\n",
       "es                 4\n",
       "Spanish            3\n",
       "Greek              3\n",
       "zho                2\n",
       "spa                2\n",
       "nl                 2\n",
       "ja                 1\n",
       "kor                1\n",
       "Chinese            1\n",
       "Language           1\n",
       "Portuguese         1\n",
       "en_GB              1\n",
       "German             1\n",
       "Sepedi             1\n",
       "Afr                1\n",
       "afr                1\n",
       "zh                 1\n",
       "Name: lang, dtype: int64"
      ]
     },
     "execution_count": 33,
     "metadata": {},
     "output_type": "execute_result"
    }
   ],
   "source": [
    "c_lang "
   ]
  },
  {
   "cell_type": "code",
   "execution_count": 34,
   "id": "7affe15a-8e9f-4b61-821b-5ea2aa17fd21",
   "metadata": {},
   "outputs": [
    {
     "data": {
      "text/plain": [
       "{\"Taylor, Frank E.\"}                                                                                                                                                                                                                                                                                                                                                                                                                                                                                                                                                                                                                                                                                                                                                                                                                                                                                                                                                                                                                                                                                                                                                                                        303\n",
       "{\"Gomez-Ceballos, Guillelmo\",\"Goncharov, Maxim\",\"Paus, Christoph M. E.\"}                                                                                                                                                                                                                                                                                                                                                                                                                                                                                                                                                                                                                                                                                                                                                                                                                                                                                                                                                                                                                                                                                                                                     85\n",
       "{\"Taylor, Frank E\"}                                                                                                                                                                                                                                                                                                                                                                                                                                                                                                                                                                                                                                                                                                                                                                                                                                                                                                                                                                                                                                                                                                                                                                                          83\n",
       "{\"Williams, Michael\"}                                                                                                                                                                                                                                                                                                                                                                                                                                                                                                                                                                                                                                                                                                                                                                                                                                                                                                                                                                                                                                                                                                                                                                                        58\n",
       "{\"Cowan, Ray Franklin\",\"Dujmic, Denis\",\"Sciolla, Gabriella\"}                                                                                                                                                                                                                                                                                                                                                                                                                                                                                                                                                                                                                                                                                                                                                                                                                                                                                                                                                                                                                                                                                                                                                 50\n",
       "                                                                                                                                                                                                                                                                                                                                                                                                                                                                                                                                                                                                                                                                                                                                                                                                                                                                                                                                                                                                                                                                                                                                                                                                           ... \n",
       "{\"Virdee, Satnam K\",\"Greenfield, Sheila M\",\"Fletcher, Kate\",\"McManus, Richard J\",\"Hobbs, FD Richard\",\"Mant, Jonathan\"}                                                                                                                                                                                                                                                                                                                                                                                                                                                                                                                                                                                                                                                                                                                                                                                                                                                                                                                                                                                                                                                                                        1\n",
       "{\"Mavaddat, Nahal\",\"Van der Linde, Rianne\",\"Savva, George M\",\"Brayne, Carol\",\"Mant, Jonathan\"}                                                                                                                                                                                                                                                                                                                                                                                                                                                                                                                                                                                                                                                                                                                                                                                                                                                                                                                                                                                                                                                                                                                1\n",
       "{\"Edwards, Duncan\",\"Cohn, Simon\",\"Mavaddat, Nahal\",\"Virdee, Satnam K\",\"Lasserson, Daniel\",\"Milner, Siobhan\",\"Giles, Matthew\",\"McManus, Richard\",\"Mant, Jonathan\"}                                                                                                                                                                                                                                                                                                                                                                                                                                                                                                                                                                                                                                                                                                                                                                                                                                                                                                                                                                                                                                             1\n",
       "{\"Freedman, Ben\",\"Camm, John\",\"Calkins, Hugh\",\"Healey, Jeffrey S\",\"Rosenqvist, Mårten\",\"Wang, Jiguang\",\"Albert, Christine M\",\"Anderson, Craig S\",\"Antoniou, Sotiris\",\"Benjamin, Emelia J\",\"Boriani, Giuseppe\",\"Brachmann, Johannes\",\"Brandes, Axel\",\"Chao, Tze-Fan\",\"Conen, David\",\"Engdahl, Johan\",\"Fauchier, Laurent\",\"Fitzmaurice, David A\",\"Friberg, Leif\",\"Gersh, Bernard J\",\"Gladstone, David J\",\"Glotzer, Taya V\",\"Gwynne, Kylie\",\"Hankey, Graeme J\",\"Harbison, Joseph\",\"Hillis, Graham S\",\"Hills, Mellanie T\",\"Kamel, Hooman\",\"Kirchhof, Paulus\",\"Kowey, Peter R\",\"Krieger, Derk\",\"Lee, Vivian WY\",\"Levin, Lars-Åke\",\"Lip, Gregory YH\",\"Lobban, Trudie\",\"Lowres, Nicole\",\"Mairesse, Georges H\",\"Martinez, Carlos\",\"Neubeck, Lis\",\"Orchard, Jessica\",\"Piccini, Jonathan P\",\"Poppe, Katrina\",\"Potpara, Tatjana S\",\"Puererfellner, Helmut\",\"Rienstra, Michiel\",\"Sandhu, Roopinder K\",\"Schnabel, Renate B\",\"Siu, Chung-Wah\",\"Steinhubl, Steven\",\"Svendsen, Jesper H\",\"Svennberg, Emma\",\"Themistoclakis, Sakis\",\"Tieleman, Robert G\",\"Turakhia, Mintu P\",\"Tveit, Arnljot\",\"Uittenbogaart, Steven B\",\"Van Gelder, Isabelle C\",\"Verma, Atul\",\"Wachter, Rolf\",\"Yan, Bryan P\",\"AF-Screen Collaborators,\"}      1\n",
       "{\"Ekman, Annaleigh Yahata\"}                                                                                                                                                                                                                                                                                                                                                                                                                                                                                                                                                                                                                                                                                                                                                                                                                                                                                                                                                                                                                                                                                                                                                                                   1\n",
       "Name: authors, Length: 190360, dtype: int64"
      ]
     },
     "execution_count": 34,
     "metadata": {},
     "output_type": "execute_result"
    }
   ],
   "source": [
    "c_authors"
   ]
  },
  {
   "cell_type": "code",
   "execution_count": 32,
   "id": "9cb20326-f811-4707-a6c8-4b05b85f0e6c",
   "metadata": {},
   "outputs": [
    {
     "data": {
      "text/plain": [
       "Editorial                                                                                                                                                  18\n",
       "2021 roadmap for sodium-ion batteries                                                                                                                      10\n",
       "Search for the HH → b b ¯ b b ¯ process via vector-boson fusion production using proton-proton collisions at s = 13 TeV with the ATLAS detector             9\n",
       "Study of B s 0 → J / ψπ + π − K + K − decays                                                                                                                7\n",
       "Preface                                                                                                                                                     7\n",
       "                                                                                                                                                           ..\n",
       "Automatic contour propagation using deformable image registration to determine delivered dose to spinal cord in head-and-neck cancer radiotherapy.          1\n",
       "Unveiling the role of boroxines in metal-free carbon-carbon homologations using diazo compounds and boronic acids                                           1\n",
       "Matrix exopolysaccharides; The sticky side of biofilm formation                                                                                             1\n",
       "LPS promotes a monocyte phenotype permissive for human cytomegalovirus immediate-early gene expression upon infection but not reactivation from latency     1\n",
       "Meeting Travel Needs: Becoming Reacquainted with a Community’s Unmet Travel Needs                                                                           1\n",
       "Name: title, Length: 203747, dtype: int64"
      ]
     },
     "execution_count": 32,
     "metadata": {},
     "output_type": "execute_result"
    }
   ],
   "source": [
    "c_title"
   ]
  },
  {
   "cell_type": "code",
   "execution_count": null,
   "id": "68448a6f-1981-46d6-ba76-1bf8bad875c9",
   "metadata": {},
   "outputs": [],
   "source": []
  }
 ],
 "metadata": {
  "kernelspec": {
   "display_name": "Python 3 (ipykernel)",
   "language": "python",
   "name": "python3"
  },
  "language_info": {
   "codemirror_mode": {
    "name": "ipython",
    "version": 3
   },
   "file_extension": ".py",
   "mimetype": "text/x-python",
   "name": "python",
   "nbconvert_exporter": "python",
   "pygments_lexer": "ipython3",
   "version": "3.8.7"
  }
 },
 "nbformat": 4,
 "nbformat_minor": 5
}
