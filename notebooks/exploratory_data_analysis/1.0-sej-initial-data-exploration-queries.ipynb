{
 "cells": [
  {
   "cell_type": "markdown",
   "id": "71a360aa-2016-4156-b1df-4ddb96002e95",
   "metadata": {},
   "source": [
    "### Overview\n",
    "##### Read latest preprocessed SDG dataset and query the dataset for stakeholder engagement."
   ]
  },
  {
   "cell_type": "markdown",
   "id": "40a3eb93",
   "metadata": {},
   "source": [
    "### Library Imports"
   ]
  },
  {
   "cell_type": "code",
   "execution_count": 1,
   "id": "e4cb9e78",
   "metadata": {},
   "outputs": [],
   "source": [
    "%matplotlib notebook\n",
    "import pandas as pd\n",
    "import matplotlib.pyplot as plt\n",
    "import os\n",
    "from itertools import zip_longest\n",
    "import numpy as np\n",
    "import seaborn as sns"
   ]
  },
  {
   "cell_type": "markdown",
   "id": "f6dfa593",
   "metadata": {},
   "source": [
    "### Read Data File"
   ]
  },
  {
   "cell_type": "code",
   "execution_count": 2,
   "id": "8a3291bd",
   "metadata": {},
   "outputs": [],
   "source": [
    "nb_name = \"1.0-sej-initial-data-exploration-queries\"\n",
    "\n",
    "dataset_1 = 'preprocessed_data_query-sdg-full-regexp_2022-03-15.csv' # _1, _2 etc.. as need to list more than one data set being read in\n",
    "dataset_2 = 'preprocessed_data_query-sdg-full-regexp_2022-03-15_1-1.csv'\n",
    "dataset_3 = 'preprocessed_data_wiki-sdg.csv'\n"
   ]
  },
  {
   "cell_type": "code",
   "execution_count": 3,
   "id": "ab0d4482",
   "metadata": {},
   "outputs": [
    {
     "name": "stderr",
     "output_type": "stream",
     "text": [
      "C:\\Users\\sejohnson\\AppData\\Local\\Temp\\ipykernel_15320\\871389924.py:1: DtypeWarning: Columns (10,11,26) have mixed types. Specify dtype option on import or set low_memory=False.\n",
      "  df = pd.read_csv('../../data/processed/'+dataset_2)\n"
     ]
    }
   ],
   "source": [
    "df = pd.read_csv('../../data/processed/'+dataset_2) \n",
    "df_sdg = pd.read_csv('../../data/processed/'+dataset_3) \n",
    "\n",
    "# Pandas will start looking from where your current python file is located. \n",
    "# Therefore you can move from your current directory to where your data is located with '..'"
   ]
  },
  {
   "cell_type": "code",
   "execution_count": 4,
   "id": "7e12a770",
   "metadata": {},
   "outputs": [
    {
     "data": {
      "text/html": [
       "<div>\n",
       "<style scoped>\n",
       "    .dataframe tbody tr th:only-of-type {\n",
       "        vertical-align: middle;\n",
       "    }\n",
       "\n",
       "    .dataframe tbody tr th {\n",
       "        vertical-align: top;\n",
       "    }\n",
       "\n",
       "    .dataframe thead th {\n",
       "        text-align: right;\n",
       "    }\n",
       "</style>\n",
       "<table border=\"1\" class=\"dataframe\">\n",
       "  <thead>\n",
       "    <tr style=\"text-align: right;\">\n",
       "      <th></th>\n",
       "      <th>articletype_id</th>\n",
       "      <th>ptr_id</th>\n",
       "      <th>sdg_lst</th>\n",
       "      <th>authors</th>\n",
       "      <th>title</th>\n",
       "      <th>content</th>\n",
       "      <th>keywords</th>\n",
       "      <th>date</th>\n",
       "      <th>year</th>\n",
       "      <th>month</th>\n",
       "      <th>...</th>\n",
       "      <th>3_listed_sdg</th>\n",
       "      <th>4_listed_sdg</th>\n",
       "      <th>5_listed_sdg</th>\n",
       "      <th>6_listed_sdg</th>\n",
       "      <th>7_listed_sdg</th>\n",
       "      <th>8_listed_sdg</th>\n",
       "      <th>9_listed_sdg</th>\n",
       "      <th>language</th>\n",
       "      <th>title_word_count</th>\n",
       "      <th>content_word_count</th>\n",
       "    </tr>\n",
       "  </thead>\n",
       "  <tbody>\n",
       "    <tr>\n",
       "      <th>0</th>\n",
       "      <td>13.0</td>\n",
       "      <td>13</td>\n",
       "      <td>2, 14</td>\n",
       "      <td>['Jansen, Jonathan D.']</td>\n",
       "      <td>Autonomy and accountability in the regulation ...</td>\n",
       "      <td>This article examines the struggles of the Sou...</td>\n",
       "      <td>['accountability' 'autonomy' 'democracy' 'educ...</td>\n",
       "      <td>2006-01-27</td>\n",
       "      <td>2006.0</td>\n",
       "      <td>1.0</td>\n",
       "      <td>...</td>\n",
       "      <td>0</td>\n",
       "      <td>0</td>\n",
       "      <td>0</td>\n",
       "      <td>0</td>\n",
       "      <td>0</td>\n",
       "      <td>0</td>\n",
       "      <td>0</td>\n",
       "      <td>English</td>\n",
       "      <td>15</td>\n",
       "      <td>158</td>\n",
       "    </tr>\n",
       "    <tr>\n",
       "      <th>1</th>\n",
       "      <td>14.0</td>\n",
       "      <td>14</td>\n",
       "      <td>2</td>\n",
       "      <td>['Jansen, Jonathan D.']</td>\n",
       "      <td>Intellectuals under fire</td>\n",
       "      <td>Looks at the status of intellectuals in South ...</td>\n",
       "      <td>['cultural policy' 'democracy' 'intellectuals'...</td>\n",
       "      <td>2006-01-27</td>\n",
       "      <td>2006.0</td>\n",
       "      <td>1.0</td>\n",
       "      <td>...</td>\n",
       "      <td>0</td>\n",
       "      <td>0</td>\n",
       "      <td>0</td>\n",
       "      <td>0</td>\n",
       "      <td>0</td>\n",
       "      <td>0</td>\n",
       "      <td>0</td>\n",
       "      <td>English</td>\n",
       "      <td>3</td>\n",
       "      <td>38</td>\n",
       "    </tr>\n",
       "  </tbody>\n",
       "</table>\n",
       "<p>2 rows × 29 columns</p>\n",
       "</div>"
      ],
      "text/plain": [
       "   articletype_id  ptr_id sdg_lst                  authors  \\\n",
       "0            13.0      13   2, 14  ['Jansen, Jonathan D.']   \n",
       "1            14.0      14       2  ['Jansen, Jonathan D.']   \n",
       "\n",
       "                                               title  \\\n",
       "0  Autonomy and accountability in the regulation ...   \n",
       "1                           Intellectuals under fire   \n",
       "\n",
       "                                             content  \\\n",
       "0  This article examines the struggles of the Sou...   \n",
       "1  Looks at the status of intellectuals in South ...   \n",
       "\n",
       "                                            keywords        date    year  \\\n",
       "0  ['accountability' 'autonomy' 'democracy' 'educ...  2006-01-27  2006.0   \n",
       "1  ['cultural policy' 'democracy' 'intellectuals'...  2006-01-27  2006.0   \n",
       "\n",
       "   month  ... 3_listed_sdg 4_listed_sdg 5_listed_sdg  6_listed_sdg  \\\n",
       "0    1.0  ...            0            0            0             0   \n",
       "1    1.0  ...            0            0            0             0   \n",
       "\n",
       "  7_listed_sdg 8_listed_sdg  9_listed_sdg  language  title_word_count  \\\n",
       "0            0            0             0   English                15   \n",
       "1            0            0             0   English                 3   \n",
       "\n",
       "   content_word_count  \n",
       "0                 158  \n",
       "1                  38  \n",
       "\n",
       "[2 rows x 29 columns]"
      ]
     },
     "execution_count": 4,
     "metadata": {},
     "output_type": "execute_result"
    }
   ],
   "source": [
    "df.head(2)"
   ]
  },
  {
   "cell_type": "code",
   "execution_count": 5,
   "id": "be98db88-a15e-4f4b-961f-c8d1b978ac41",
   "metadata": {},
   "outputs": [
    {
     "data": {
      "text/html": [
       "<div>\n",
       "<style scoped>\n",
       "    .dataframe tbody tr th:only-of-type {\n",
       "        vertical-align: middle;\n",
       "    }\n",
       "\n",
       "    .dataframe tbody tr th {\n",
       "        vertical-align: top;\n",
       "    }\n",
       "\n",
       "    .dataframe thead th {\n",
       "        text-align: right;\n",
       "    }\n",
       "</style>\n",
       "<table border=\"1\" class=\"dataframe\">\n",
       "  <thead>\n",
       "    <tr style=\"text-align: right;\">\n",
       "      <th></th>\n",
       "      <th>sdg_id</th>\n",
       "      <th>sgd_description</th>\n",
       "      <th>sdg_alias1</th>\n",
       "    </tr>\n",
       "  </thead>\n",
       "  <tbody>\n",
       "    <tr>\n",
       "      <th>0</th>\n",
       "      <td>1</td>\n",
       "      <td>No Poverty</td>\n",
       "      <td>Poverty</td>\n",
       "    </tr>\n",
       "    <tr>\n",
       "      <th>1</th>\n",
       "      <td>2</td>\n",
       "      <td>Zero Hunger</td>\n",
       "      <td>Hunger</td>\n",
       "    </tr>\n",
       "    <tr>\n",
       "      <th>2</th>\n",
       "      <td>3</td>\n",
       "      <td>Good Health and Well-being</td>\n",
       "      <td>Health</td>\n",
       "    </tr>\n",
       "    <tr>\n",
       "      <th>3</th>\n",
       "      <td>4</td>\n",
       "      <td>Quality Education</td>\n",
       "      <td>Education</td>\n",
       "    </tr>\n",
       "    <tr>\n",
       "      <th>4</th>\n",
       "      <td>5</td>\n",
       "      <td>Gender Equality</td>\n",
       "      <td>Gender Equality</td>\n",
       "    </tr>\n",
       "    <tr>\n",
       "      <th>5</th>\n",
       "      <td>6</td>\n",
       "      <td>Clean Water and Sanitation</td>\n",
       "      <td>Water</td>\n",
       "    </tr>\n",
       "    <tr>\n",
       "      <th>6</th>\n",
       "      <td>7</td>\n",
       "      <td>Affordable and Clean Energy</td>\n",
       "      <td>Clean Energy</td>\n",
       "    </tr>\n",
       "    <tr>\n",
       "      <th>7</th>\n",
       "      <td>8</td>\n",
       "      <td>Decent Work and Economic Growth</td>\n",
       "      <td>Decent Work</td>\n",
       "    </tr>\n",
       "    <tr>\n",
       "      <th>8</th>\n",
       "      <td>9</td>\n",
       "      <td>Industry  Innovation and Infrastructure</td>\n",
       "      <td>Technology</td>\n",
       "    </tr>\n",
       "    <tr>\n",
       "      <th>9</th>\n",
       "      <td>10</td>\n",
       "      <td>Reduced Inequality</td>\n",
       "      <td>Inequality</td>\n",
       "    </tr>\n",
       "    <tr>\n",
       "      <th>10</th>\n",
       "      <td>11</td>\n",
       "      <td>Sustainable Cities and Communities</td>\n",
       "      <td>Governance</td>\n",
       "    </tr>\n",
       "    <tr>\n",
       "      <th>11</th>\n",
       "      <td>12</td>\n",
       "      <td>Responsible Consumption and Production</td>\n",
       "      <td>Energy</td>\n",
       "    </tr>\n",
       "    <tr>\n",
       "      <th>12</th>\n",
       "      <td>13</td>\n",
       "      <td>Climate Action</td>\n",
       "      <td>Climate</td>\n",
       "    </tr>\n",
       "    <tr>\n",
       "      <th>13</th>\n",
       "      <td>14</td>\n",
       "      <td>Life Below Water</td>\n",
       "      <td>Life below Water</td>\n",
       "    </tr>\n",
       "    <tr>\n",
       "      <th>14</th>\n",
       "      <td>15</td>\n",
       "      <td>Life On Land</td>\n",
       "      <td>Life on Land</td>\n",
       "    </tr>\n",
       "    <tr>\n",
       "      <th>15</th>\n",
       "      <td>16</td>\n",
       "      <td>Peace  Justice  and Strong Institutions</td>\n",
       "      <td>Peace</td>\n",
       "    </tr>\n",
       "    <tr>\n",
       "      <th>16</th>\n",
       "      <td>17</td>\n",
       "      <td>Partnerships for the Goals.</td>\n",
       "      <td>partnership</td>\n",
       "    </tr>\n",
       "  </tbody>\n",
       "</table>\n",
       "</div>"
      ],
      "text/plain": [
       "    sdg_id                          sgd_description        sdg_alias1\n",
       "0        1                               No Poverty           Poverty\n",
       "1        2                              Zero Hunger            Hunger\n",
       "2        3               Good Health and Well-being            Health\n",
       "3        4                        Quality Education         Education\n",
       "4        5                          Gender Equality   Gender Equality\n",
       "5        6               Clean Water and Sanitation             Water\n",
       "6        7              Affordable and Clean Energy      Clean Energy\n",
       "7        8          Decent Work and Economic Growth       Decent Work\n",
       "8        9  Industry  Innovation and Infrastructure        Technology\n",
       "9       10                       Reduced Inequality        Inequality\n",
       "10      11       Sustainable Cities and Communities        Governance\n",
       "11      12   Responsible Consumption and Production           Energy \n",
       "12      13                           Climate Action           Climate\n",
       "13      14                         Life Below Water  Life below Water\n",
       "14      15                             Life On Land      Life on Land\n",
       "15      16  Peace  Justice  and Strong Institutions             Peace\n",
       "16      17              Partnerships for the Goals.       partnership"
      ]
     },
     "execution_count": 5,
     "metadata": {},
     "output_type": "execute_result"
    }
   ],
   "source": [
    "df_sdg"
   ]
  },
  {
   "cell_type": "code",
   "execution_count": 6,
   "id": "8125ec7a-2394-40ea-a516-a2c341972daf",
   "metadata": {},
   "outputs": [],
   "source": [
    "def sdg_label(sdg_lst):\n",
    "    # split delimited SDG list \n",
    "    split = [int(z)for z in sdg_lst.split(',')]\n",
    "    \n",
    "    ret = ''\n",
    "    for s in split:\n",
    "        if s in range(1, df_sdg.shape[0] + 1):\n",
    "            if ret == '':\n",
    "                ret = df_sdg.sdg_alias1[s - 1].lower()\n",
    "            else:\n",
    "                ret = ret + \", \" + df_sdg.sdg_alias1[s - 1].lower()\n",
    "    return ret"
   ]
  },
  {
   "cell_type": "code",
   "execution_count": 7,
   "id": "2a4aed93-71a2-43ed-890d-cb4fbcb171ba",
   "metadata": {},
   "outputs": [
    {
     "data": {
      "text/plain": [
       "'poverty, life on land, peace, partnership'"
      ]
     },
     "execution_count": 7,
     "metadata": {},
     "output_type": "execute_result"
    }
   ],
   "source": [
    "sdg_label('-1, 0, 1, 15, 16, 17, 18, 20')"
   ]
  },
  {
   "cell_type": "markdown",
   "id": "0e8f24a4-eb1a-47a0-a8de-7435507b2fde",
   "metadata": {},
   "source": [
    "### Query"
   ]
  },
  {
   "cell_type": "code",
   "execution_count": 8,
   "id": "95724a9f-a0fd-4ceb-8ae3-ca3394f4bb72",
   "metadata": {},
   "outputs": [
    {
     "name": "stdout",
     "output_type": "stream",
     "text": [
      "Query results: 4526\n"
     ]
    }
   ],
   "source": [
    "query1 = df[['articletype_id', 'sdg_lst',  'title', 'content',\n",
    "        'institution']].query(\"institution == 'University of Pretoria'\")\n",
    "print('Query results:', query1.shape[0])"
   ]
  },
  {
   "cell_type": "code",
   "execution_count": 9,
   "id": "bd5b9ca8-c379-4407-a3c8-04cfeaaefd15",
   "metadata": {},
   "outputs": [
    {
     "name": "stdout",
     "output_type": "stream",
     "text": [
      "\n",
      "articletype_id:\n",
      " 14.0 \n",
      "\n",
      "title:\n",
      " Intellectuals under fire \n",
      "\n",
      "content:\n",
      " Looks at the status of intellectuals in South Africa ten years after democracy was established in the country. Direction of democracy in the country; Concerns about the policies of the government and its response to criticism from intellectuals. \n",
      "\n",
      "SDG:\n",
      " 2   hunger\n"
     ]
    }
   ],
   "source": [
    "n=1\n",
    "print('\\narticletype_id:\\n' , query1.articletype_id[n], '\\n\\ntitle:\\n', query1.title[n], '\\n\\ncontent:\\n', query1.content[n], '\\n\\nSDG:\\n', query1.sdg_lst[n], \" \", sdg_label(query1.sdg_lst[n]) )"
   ]
  },
  {
   "cell_type": "code",
   "execution_count": 10,
   "id": "2ae1c936-4fc5-40b9-a3a0-2e384ffc017c",
   "metadata": {},
   "outputs": [
    {
     "name": "stdout",
     "output_type": "stream",
     "text": [
      "\n",
      "articletype_id:\n",
      " 122.0 \n",
      "\n",
      "title:\n",
      " Efficiency analysis of small-scale wool production in the former Transkei, South Africa \n",
      "\n",
      "content:\n",
      " A non-parametric data envelopment analysis (DEA) is used to measure the relative efficiency of wool production in the former Transkei. The agricultural activities on the farms are merely non-commercial. Wool is considered as a by-product of keeping sheep, which are slaughtered on special family occasions or sold live. A sample of farmers in three villages of the former Transkei was interviewed. In Luzie a shearing shed was built to organise the marketing of wool, leading to a higher revenue. The farmers however are not able to convert this into a positive gross margin. A small number of farms succeeds in maximising the production of wool given the relative large investment. The negative result of wool farming on the other farms is partly compensated by high benefits from the sales of live sheep. In Xume another shearing shed was built, and extention on production practices is provided. But no marketing through the shed was done at the time of the survey. The existence of a shearing shed should be essential for a higher retail price and extention does have a positive influence on the benefits of the farms. However, the production practices are not adapted to the production of wool only, so that the use of inputs is too high for the general output. \n",
      "\n",
      "SDG:\n",
      " 1   poverty\n"
     ]
    }
   ],
   "source": [
    "n=100\n",
    "print('\\narticletype_id:\\n' , query1.articletype_id[n], '\\n\\ntitle:\\n', query1.title[n], '\\n\\ncontent:\\n', query1.content[n], '\\n\\nSDG:\\n', query1.sdg_lst[n], \" \", sdg_label(query1.sdg_lst[n]) )"
   ]
  },
  {
   "cell_type": "code",
   "execution_count": 11,
   "id": "f0ac5aa5-eeeb-4c3f-8a31-c9dea8dca0e6",
   "metadata": {},
   "outputs": [
    {
     "name": "stdout",
     "output_type": "stream",
     "text": [
      "\n",
      "articletype_id:\n",
      " 6076.0 \n",
      "\n",
      "title:\n",
      " Serological prevalence of leptospiral antibodies in pigs in South Africa \n",
      "\n",
      "content:\n",
      " A serological survey for leptospiral antibodies was carried out on 5 041 abattoir pigs from different regions in South Africa. Antibodies to at least one serovar were detected in 22,2% of the animals. The serovars showing the highest prevalence were: icterohaemorrhagiae (12,6%), hardjo (12,1 %) and bratislava (7,5%). The serum dilution level at which 90% of the sera reacted was 1/80 or 1/160. \n",
      "\n",
      "SDG:\n",
      " 15   life on land\n"
     ]
    }
   ],
   "source": [
    "n=query1.sdg_lst.shape[0]-1\n",
    "print('\\narticletype_id:\\n' , query1.articletype_id[n], '\\n\\ntitle:\\n', query1.title[n], '\\n\\ncontent:\\n', query1.content[n], '\\n\\nSDG:\\n', query1.sdg_lst[n], \" \", sdg_label(query1.sdg_lst[n]) )"
   ]
  }
 ],
 "metadata": {
  "kernelspec": {
   "display_name": "Python 3 (ipykernel)",
   "language": "python",
   "name": "python3"
  },
  "language_info": {
   "codemirror_mode": {
    "name": "ipython",
    "version": 3
   },
   "file_extension": ".py",
   "mimetype": "text/x-python",
   "name": "python",
   "nbconvert_exporter": "python",
   "pygments_lexer": "ipython3",
   "version": "3.8.7"
  }
 },
 "nbformat": 4,
 "nbformat_minor": 5
}
