{
 "cells": [
  {
   "cell_type": "code",
   "execution_count": 1,
   "id": "ee7e07f9-9473-4042-bf0f-54de0838736b",
   "metadata": {},
   "outputs": [],
   "source": [
    "_debug=False"
   ]
  },
  {
   "cell_type": "markdown",
   "id": "21a04718-611c-4f79-8d1f-dd9edf65bca4",
   "metadata": {},
   "source": [
    "# Import Data"
   ]
  },
  {
   "cell_type": "code",
   "execution_count": 2,
   "id": "64e5fdba-0544-4598-848f-8b695f358c4d",
   "metadata": {},
   "outputs": [
    {
     "name": "stdout",
     "output_type": "stream",
     "text": [
      "C:\\Py\\PyProj\\2022_Notebooks to C:\\Py\\PyProj\\2022Env387MIT808\\GitHub\\MIT-808\\data\\raw\n"
     ]
    }
   ],
   "source": [
    "# Change working directory\n",
    "import os\n",
    "cwd = os.getcwd ()\n",
    "fd = 'C:/Py/PyProj/2022Env387MIT808/GitHub/MIT-808/data/raw/' #ToDo how to make this generic to GitHub folders structure?\n",
    "os.chdir(fd)\n",
    "print(cwd, 'to', os.getcwd ())"
   ]
  },
  {
   "cell_type": "code",
   "execution_count": 3,
   "id": "786e7f78-cc87-413d-b7b8-f932b9c5b853",
   "metadata": {},
   "outputs": [],
   "source": [
    "# Read source Excel\n",
    "import pandas as pd\n",
    "fn = 'query-sdg-full_20220312_1550.csv'\n",
    "# Description and instrumenttag\n",
    "df = pd.read_csv(fn, sep='|', header=0)"
   ]
  },
  {
   "cell_type": "code",
   "execution_count": 4,
   "id": "3ebd8744-0ff1-48fd-b937-ad74ebc1d868",
   "metadata": {},
   "outputs": [
    {
     "data": {
      "text/html": [
       "<div>\n",
       "<style scoped>\n",
       "    .dataframe tbody tr th:only-of-type {\n",
       "        vertical-align: middle;\n",
       "    }\n",
       "\n",
       "    .dataframe tbody tr th {\n",
       "        vertical-align: top;\n",
       "    }\n",
       "\n",
       "    .dataframe thead th {\n",
       "        text-align: right;\n",
       "    }\n",
       "</style>\n",
       "<table border=\"1\" class=\"dataframe\">\n",
       "  <thead>\n",
       "    <tr style=\"text-align: right;\">\n",
       "      <th></th>\n",
       "      <th>ptr_id</th>\n",
       "      <th>articletype_id</th>\n",
       "      <th>sdg_lst</th>\n",
       "      <th>authors</th>\n",
       "      <th>title</th>\n",
       "      <th>content</th>\n",
       "      <th>keywords</th>\n",
       "      <th>institution_id</th>\n",
       "    </tr>\n",
       "  </thead>\n",
       "  <tbody>\n",
       "    <tr>\n",
       "      <th>0</th>\n",
       "      <td>13</td>\n",
       "      <td>13.0</td>\n",
       "      <td>14, 2</td>\n",
       "      <td>{\"Jansen, Jonathan D.\"}</td>\n",
       "      <td>Autonomy and accountability in the regulation ...</td>\n",
       "      <td>This article examines the struggles of the Sou...</td>\n",
       "      <td>{Autonomy,Learning,Performance,Teaching,\"Gover...</td>\n",
       "      <td>1</td>\n",
       "    </tr>\n",
       "    <tr>\n",
       "      <th>1</th>\n",
       "      <td>14</td>\n",
       "      <td>14.0</td>\n",
       "      <td>2</td>\n",
       "      <td>{\"Jansen, Jonathan D.\"}</td>\n",
       "      <td>Intellectuals under fire</td>\n",
       "      <td>Looks at the status of intellectuals in South ...</td>\n",
       "      <td>{\"Cultural policy\",Democracy,\"Political system...</td>\n",
       "      <td>1</td>\n",
       "    </tr>\n",
       "  </tbody>\n",
       "</table>\n",
       "</div>"
      ],
      "text/plain": [
       "   ptr_id  articletype_id sdg_lst                  authors  \\\n",
       "0      13            13.0   14, 2  {\"Jansen, Jonathan D.\"}   \n",
       "1      14            14.0       2  {\"Jansen, Jonathan D.\"}   \n",
       "\n",
       "                                               title  \\\n",
       "0  Autonomy and accountability in the regulation ...   \n",
       "1                           Intellectuals under fire   \n",
       "\n",
       "                                             content  \\\n",
       "0  This article examines the struggles of the Sou...   \n",
       "1  Looks at the status of intellectuals in South ...   \n",
       "\n",
       "                                            keywords  institution_id  \n",
       "0  {Autonomy,Learning,Performance,Teaching,\"Gover...               1  \n",
       "1  {\"Cultural policy\",Democracy,\"Political system...               1  "
      ]
     },
     "execution_count": 4,
     "metadata": {},
     "output_type": "execute_result"
    }
   ],
   "source": [
    "df.head(2)"
   ]
  },
  {
   "cell_type": "code",
   "execution_count": 5,
   "id": "7091afc4-4c59-49b4-ad3f-9175ba601a66",
   "metadata": {},
   "outputs": [
    {
     "name": "stdout",
     "output_type": "stream",
     "text": [
      "Intellectuals under fire\n",
      "Looks at the status of intellectuals in South Africa ten years after democracy was established in the country. Direction of democracy in the country; Concerns about the policies of the government and its response to criticism from intellectuals.\n",
      "\n",
      "\n",
      "{\"Cultural policy\",Democracy,\"Political systems\",Intellectuals,Politics,\"Cultural policy\",Democracy,\"Political systems\",Intellectuals,Politics,\"Cultural policy\",Democracy,\"Political systems\",Intellectuals,Politics,\"Cultural policy\",Democracy,\"Political systems\",Intellectuals,Politics,\"Cultural policy\",Democracy,\"Political systems\",Intellectuals,Politics,\"Cultural policy\",Democracy,\"Political systems\",Intellectuals,Politics,\"Cultural policy\",Democracy,\"Political systems\",Intellectuals,Politics,\"Cultural policy\",Democracy,\"Political systems\",Intellectuals,Politics,\"Cultural policy\",Democracy,\"Political systems\",Intellectuals,Politics,\"Cultural policy\",Democracy,\"Political systems\",Intellectuals,Politics,\"Cultural policy\",Democracy,\"Political systems\",Intellectuals,Politics,\"Cultural policy\",Democracy,\"Political systems\",Intellectuals,Politics,\"Cultural policy\",Democracy,\"Political systems\",Intellectuals,Politics,\"Cultural policy\",Democracy,\"Political systems\",Intellectuals,Politics,\"Cultural policy\",Democracy,\"Political systems\",Intellectuals,Politics,\"Cultural policy\",Democracy,\"Political systems\",Intellectuals,Politics,\"Cultural policy\",Democracy,\"Political systems\",Intellectuals,Politics,\"Cultural policy\",Democracy,\"Political systems\",Intellectuals,Politics,\"Cultural policy\",Democracy,\"Political systems\",Intellectuals,Politics,\"Cultural policy\",Democracy,\"Political systems\",Intellectuals,Politics,\"Cultural policy\",Democracy,\"Political systems\",Intellectuals,Politics,\"Cultural policy\",Democracy,\"Political systems\",Intellectuals,Politics,\"Cultural policy\",Democracy,\"Political systems\",Intellectuals,Politics,\"Cultural policy\",Democracy,\"Political systems\",Intellectuals,Politics,\"Cultural policy\",Democracy,\"Political systems\",Intellectuals,Politics,\"Cultural policy\",Democracy,\"Political systems\",Intellectuals,Politics,\"Cultural policy\",Democracy,\"Political systems\",Intellectuals,Politics,\"Cultural policy\",Democracy,\"Political systems\",Intellectuals,Politics}\n"
     ]
    }
   ],
   "source": [
    "n=1\n",
    "print(df.title[n])\n",
    "print(df.content[n])\n",
    "print('\\n')\n",
    "print(df.keywords[n])"
   ]
  },
  {
   "cell_type": "markdown",
   "id": "529960cc-d5ce-475e-8a99-0ca7e0af599b",
   "metadata": {},
   "source": [
    "# Evaluate Data Quality"
   ]
  },
  {
   "cell_type": "code",
   "execution_count": 6,
   "id": "291891d4-9d2b-4acd-bb5e-307e5356342f",
   "metadata": {},
   "outputs": [
    {
     "data": {
      "text/plain": [
       "True"
      ]
     },
     "execution_count": 6,
     "metadata": {},
     "output_type": "execute_result"
    }
   ],
   "source": [
    "# Unique ID\n",
    "df.ptr_id.is_unique"
   ]
  },
  {
   "cell_type": "code",
   "execution_count": 7,
   "id": "78272375-8edc-4910-b7c1-77a5987eb535",
   "metadata": {},
   "outputs": [
    {
     "data": {
      "text/plain": [
       "True"
      ]
     },
     "execution_count": 7,
     "metadata": {},
     "output_type": "execute_result"
    }
   ],
   "source": [
    "# Unique ID\n",
    "df.articletype_id.is_unique"
   ]
  },
  {
   "cell_type": "code",
   "execution_count": 8,
   "id": "8d8c0ada-5dff-4630-a492-52cf48eb4f96",
   "metadata": {},
   "outputs": [
    {
     "name": "stdout",
     "output_type": "stream",
     "text": [
      "Columns with nulls:\n",
      " articletype_id     1\n",
      "sdg_lst            1\n",
      "content           23\n",
      "dtype: int64\n"
     ]
    }
   ],
   "source": [
    "#Report nulls\n",
    "null_columns=df.columns[df.isnull().any()]\n",
    "print('Columns with nulls:\\n', df[null_columns].isnull().sum())\n",
    "for col in null_columns:\n",
    "    df[col]=df[col].fillna(0)"
   ]
  },
  {
   "cell_type": "code",
   "execution_count": 9,
   "id": "5fc0e52d-8c96-47a9-a0c8-8b5578369354",
   "metadata": {},
   "outputs": [
    {
     "name": "stdout",
     "output_type": "stream",
     "text": [
      "Columns with nulls:\n",
      " Series([], dtype: float64)\n"
     ]
    }
   ],
   "source": [
    "null_columns=df.columns[df.isnull().any()]\n",
    "print('Columns with nulls:\\n', df[null_columns].isnull().sum())"
   ]
  },
  {
   "cell_type": "code",
   "execution_count": 10,
   "id": "65c561f1-51aa-4dfd-88d0-92654d4035df",
   "metadata": {},
   "outputs": [
    {
     "data": {
      "text/plain": [
       "(0, 8)"
      ]
     },
     "execution_count": 10,
     "metadata": {},
     "output_type": "execute_result"
    }
   ],
   "source": [
    "#check for NaN\n",
    "df1 = df[df.isna().any(axis=1)]\n",
    "df1.shape\n",
    "#del df1"
   ]
  },
  {
   "cell_type": "code",
   "execution_count": 11,
   "id": "7f0283dc-c7b1-4ae5-8b2e-a240791e0d54",
   "metadata": {},
   "outputs": [
    {
     "name": "stdout",
     "output_type": "stream",
     "text": [
      "count mismatchees: (1, 8)\n",
      "        ptr_id  articletype_id sdg_lst      authors             title  \\\n",
      "208806  342219             0.0       0  {\"齋藤, 久美子\"}  黨錮と學問 : とくに何休の場合   \n",
      "\n",
      "                                                  content keywords  \\\n",
      "208806  黒人奴隷制に基づくタバコ・プランテーションの展開をみたメリーランド植民地とヴァジニア植民地は...   {NULL}   \n",
      "\n",
      "        institution_id  \n",
      "208806              38  \n"
     ]
    }
   ],
   "source": [
    "# Check sum: ptr_id should equal articletype_id\n",
    "print('count mismatchees:', df.loc[ (df.ptr_id != df.articletype_id)].shape)\n",
    "print(df.loc[ (df.ptr_id != df.articletype_id)])\n",
    "if _debug:\n",
    "    print('shape', df.shape)\n",
    "    print('drop', df.drop(df[ (df.ptr_id != df.articletype_id) ].index, inplace = True))\n",
    "df.drop(df[ (df.ptr_id != df.articletype_id) ].index, inplace = True)"
   ]
  },
  {
   "cell_type": "code",
   "execution_count": 12,
   "id": "969d7af3-a9ab-4e53-b634-900f491cb338",
   "metadata": {},
   "outputs": [
    {
     "data": {
      "text/plain": [
       "(208806, 8)"
      ]
     },
     "execution_count": 12,
     "metadata": {},
     "output_type": "execute_result"
    }
   ],
   "source": [
    "df.shape"
   ]
  },
  {
   "cell_type": "markdown",
   "id": "122e72c1-5565-4207-960a-36745a7cb938",
   "metadata": {},
   "source": [
    "### Clean up keywords feature to have unique phrases."
   ]
  },
  {
   "cell_type": "code",
   "execution_count": 13,
   "id": "e41b2bc9-f7de-45a9-b1bf-8641ab7ac687",
   "metadata": {},
   "outputs": [],
   "source": [
    "kw=df.keywords"
   ]
  },
  {
   "cell_type": "code",
   "execution_count": 14,
   "id": "38191634-d17c-4c43-9dd6-3bb54d583bd8",
   "metadata": {},
   "outputs": [],
   "source": [
    "if _debug:\n",
    "    print(kw[0])"
   ]
  },
  {
   "cell_type": "code",
   "execution_count": 15,
   "id": "92d4f910-cd76-4fe0-b53a-618d88214444",
   "metadata": {},
   "outputs": [],
   "source": [
    "# strip left of '{'\n",
    "left=kw.str.split('{').str[1]\n",
    "# strip right of '}'\n",
    "right=left.str.split('}').str[0]\n",
    "kw=right.str.replace('\"', \"\")"
   ]
  },
  {
   "cell_type": "code",
   "execution_count": 16,
   "id": "b5518bad-c259-4a70-ac24-3af5e7aa9276",
   "metadata": {},
   "outputs": [],
   "source": [
    "if _debug:\n",
    "    print(kw[0])"
   ]
  },
  {
   "cell_type": "code",
   "execution_count": 17,
   "id": "5af0d1d9-269c-4d66-b468-9d511fdd3210",
   "metadata": {},
   "outputs": [],
   "source": [
    "# Convert delimited strings into lists; and keep unique strings. \n",
    "list_all = kw.str.split(',')\n",
    "list_unique = []\n",
    "for i, v in enumerate(list_all):\n",
    "    list_unique.append(list(set(list_all[i])))   "
   ]
  },
  {
   "cell_type": "code",
   "execution_count": 18,
   "id": "06d48267-970c-44c6-bef4-66acb4bcc304",
   "metadata": {},
   "outputs": [],
   "source": [
    "if _debug:\n",
    "    n=1\n",
    "    print(list_unique[n])\n",
    "    print(list_all[n])\n",
    "    print(len(list_unique))"
   ]
  },
  {
   "cell_type": "code",
   "execution_count": 19,
   "id": "ba68724d-76f6-4d81-979a-30840d589fba",
   "metadata": {},
   "outputs": [],
   "source": [
    "df['unique_keywords']=list_unique\n",
    "del kw, list_all, list_unique"
   ]
  },
  {
   "cell_type": "code",
   "execution_count": 20,
   "id": "189ffb74-ad43-4412-8aa9-bb011aab20ed",
   "metadata": {},
   "outputs": [
    {
     "data": {
      "text/html": [
       "<div>\n",
       "<style scoped>\n",
       "    .dataframe tbody tr th:only-of-type {\n",
       "        vertical-align: middle;\n",
       "    }\n",
       "\n",
       "    .dataframe tbody tr th {\n",
       "        vertical-align: top;\n",
       "    }\n",
       "\n",
       "    .dataframe thead th {\n",
       "        text-align: right;\n",
       "    }\n",
       "</style>\n",
       "<table border=\"1\" class=\"dataframe\">\n",
       "  <thead>\n",
       "    <tr style=\"text-align: right;\">\n",
       "      <th></th>\n",
       "      <th>0</th>\n",
       "    </tr>\n",
       "  </thead>\n",
       "  <tbody>\n",
       "    <tr>\n",
       "      <th>ptr_id</th>\n",
       "      <td>13</td>\n",
       "    </tr>\n",
       "    <tr>\n",
       "      <th>articletype_id</th>\n",
       "      <td>13.0</td>\n",
       "    </tr>\n",
       "    <tr>\n",
       "      <th>sdg_lst</th>\n",
       "      <td>14, 2</td>\n",
       "    </tr>\n",
       "    <tr>\n",
       "      <th>authors</th>\n",
       "      <td>{\"Jansen, Jonathan D.\"}</td>\n",
       "    </tr>\n",
       "    <tr>\n",
       "      <th>title</th>\n",
       "      <td>Autonomy and accountability in the regulation ...</td>\n",
       "    </tr>\n",
       "    <tr>\n",
       "      <th>content</th>\n",
       "      <td>This article examines the struggles of the Sou...</td>\n",
       "    </tr>\n",
       "    <tr>\n",
       "      <th>keywords</th>\n",
       "      <td>{Autonomy,Learning,Performance,Teaching,\"Gover...</td>\n",
       "    </tr>\n",
       "    <tr>\n",
       "      <th>institution_id</th>\n",
       "      <td>1</td>\n",
       "    </tr>\n",
       "    <tr>\n",
       "      <th>unique_keywords</th>\n",
       "      <td>[Teaching, Performance, Learning, Educational ...</td>\n",
       "    </tr>\n",
       "  </tbody>\n",
       "</table>\n",
       "</div>"
      ],
      "text/plain": [
       "                                                                 0\n",
       "ptr_id                                                          13\n",
       "articletype_id                                                13.0\n",
       "sdg_lst                                                      14, 2\n",
       "authors                                    {\"Jansen, Jonathan D.\"}\n",
       "title            Autonomy and accountability in the regulation ...\n",
       "content          This article examines the struggles of the Sou...\n",
       "keywords         {Autonomy,Learning,Performance,Teaching,\"Gover...\n",
       "institution_id                                                   1\n",
       "unique_keywords  [Teaching, Performance, Learning, Educational ..."
      ]
     },
     "execution_count": 20,
     "metadata": {},
     "output_type": "execute_result"
    }
   ],
   "source": [
    "df.head(1).T"
   ]
  },
  {
   "cell_type": "markdown",
   "id": "352a4389-f20a-4be0-bdd9-827898ef56c8",
   "metadata": {},
   "source": [
    "### Convert sdg text into lists"
   ]
  },
  {
   "cell_type": "code",
   "execution_count": 21,
   "id": "ad682058-fcf3-41a8-81ed-3d7c17f3cca0",
   "metadata": {},
   "outputs": [],
   "source": [
    "sdg=df.sdg_lst"
   ]
  },
  {
   "cell_type": "code",
   "execution_count": 22,
   "id": "bf9313f2-db8b-4d3a-96d7-0a810d699d09",
   "metadata": {},
   "outputs": [],
   "source": [
    "# list of strings\n",
    "list_all = sdg.str.split(',')\n",
    "\n",
    "#ToDo better code needed here\n",
    "# list of integers \n",
    "n=0\n",
    "list_int = []\n",
    "for i, v1 in enumerate(list_all):\n",
    "    lst = []\n",
    "    \n",
    "    try:\n",
    "        for j, v2 in enumerate(list_all[i]):\n",
    "            lst.append(int(v2))\n",
    "        n=+1\n",
    "    except:\n",
    "        print('skip: ', i, n, list_all[i])\n",
    "    \n",
    "    list_int.append(lst)  \n",
    "\n",
    "if _debug:\n",
    "    print(list_all[0])\n",
    "    print(list_int[0])\n",
    "    \n",
    "#append to df\n",
    "df['sdg_ints']=list_int\n",
    "del sdg, list_all, list_int"
   ]
  },
  {
   "cell_type": "code",
   "execution_count": 23,
   "id": "48a408b0-f55a-4eb1-8389-7c4d7a9d17a8",
   "metadata": {},
   "outputs": [
    {
     "data": {
      "text/html": [
       "<div>\n",
       "<style scoped>\n",
       "    .dataframe tbody tr th:only-of-type {\n",
       "        vertical-align: middle;\n",
       "    }\n",
       "\n",
       "    .dataframe tbody tr th {\n",
       "        vertical-align: top;\n",
       "    }\n",
       "\n",
       "    .dataframe thead th {\n",
       "        text-align: right;\n",
       "    }\n",
       "</style>\n",
       "<table border=\"1\" class=\"dataframe\">\n",
       "  <thead>\n",
       "    <tr style=\"text-align: right;\">\n",
       "      <th></th>\n",
       "      <th>ptr_id</th>\n",
       "      <th>articletype_id</th>\n",
       "      <th>sdg_lst</th>\n",
       "      <th>authors</th>\n",
       "      <th>title</th>\n",
       "      <th>content</th>\n",
       "      <th>keywords</th>\n",
       "      <th>institution_id</th>\n",
       "      <th>unique_keywords</th>\n",
       "      <th>sdg_ints</th>\n",
       "    </tr>\n",
       "  </thead>\n",
       "  <tbody>\n",
       "    <tr>\n",
       "      <th>0</th>\n",
       "      <td>13</td>\n",
       "      <td>13.0</td>\n",
       "      <td>14, 2</td>\n",
       "      <td>{\"Jansen, Jonathan D.\"}</td>\n",
       "      <td>Autonomy and accountability in the regulation ...</td>\n",
       "      <td>This article examines the struggles of the Sou...</td>\n",
       "      <td>{Autonomy,Learning,Performance,Teaching,\"Gover...</td>\n",
       "      <td>1</td>\n",
       "      <td>[Teaching, Performance, Learning, Educational ...</td>\n",
       "      <td>[14, 2]</td>\n",
       "    </tr>\n",
       "    <tr>\n",
       "      <th>1</th>\n",
       "      <td>14</td>\n",
       "      <td>14.0</td>\n",
       "      <td>2</td>\n",
       "      <td>{\"Jansen, Jonathan D.\"}</td>\n",
       "      <td>Intellectuals under fire</td>\n",
       "      <td>Looks at the status of intellectuals in South ...</td>\n",
       "      <td>{\"Cultural policy\",Democracy,\"Political system...</td>\n",
       "      <td>1</td>\n",
       "      <td>[Political systems, Politics, Democracy, Cultu...</td>\n",
       "      <td>[2]</td>\n",
       "    </tr>\n",
       "    <tr>\n",
       "      <th>2</th>\n",
       "      <td>16</td>\n",
       "      <td>16.0</td>\n",
       "      <td>2</td>\n",
       "      <td>{\"Jansen, Jonathan D.\"}</td>\n",
       "      <td>Mode 2 knowledge and institutional life: takin...</td>\n",
       "      <td>This paper examines the response of a black un...</td>\n",
       "      <td>{\"Higher education\",\"Information technology\",\"...</td>\n",
       "      <td>1</td>\n",
       "      <td>[Information technology, Knowledge theory, App...</td>\n",
       "      <td>[2]</td>\n",
       "    </tr>\n",
       "    <tr>\n",
       "      <th>3</th>\n",
       "      <td>17</td>\n",
       "      <td>17.0</td>\n",
       "      <td>14, 1</td>\n",
       "      <td>{\"Jansen, Jonathan D.\"}</td>\n",
       "      <td>Political symbolism as policy craft : explaini...</td>\n",
       "      <td>The policy literature in developing countries ...</td>\n",
       "      <td>{Apartheid,\"Educational change\",\"Educational p...</td>\n",
       "      <td>1</td>\n",
       "      <td>[Apartheid, Educational change, Theories, Educ...</td>\n",
       "      <td>[14, 1]</td>\n",
       "    </tr>\n",
       "    <tr>\n",
       "      <th>4</th>\n",
       "      <td>18</td>\n",
       "      <td>18.0</td>\n",
       "      <td>14</td>\n",
       "      <td>{\"Jansen, Jonathan D.\"}</td>\n",
       "      <td>School curriculum since apartheid : intersecti...</td>\n",
       "      <td>In the wake of South Africa's first non-racial...</td>\n",
       "      <td>{\"Curriculum development\",\"Educational policy\"...</td>\n",
       "      <td>1</td>\n",
       "      <td>[Curriculum development, Apartheid, Educationa...</td>\n",
       "      <td>[14]</td>\n",
       "    </tr>\n",
       "    <tr>\n",
       "      <th>...</th>\n",
       "      <td>...</td>\n",
       "      <td>...</td>\n",
       "      <td>...</td>\n",
       "      <td>...</td>\n",
       "      <td>...</td>\n",
       "      <td>...</td>\n",
       "      <td>...</td>\n",
       "      <td>...</td>\n",
       "      <td>...</td>\n",
       "      <td>...</td>\n",
       "    </tr>\n",
       "    <tr>\n",
       "      <th>208801</th>\n",
       "      <td>229328</td>\n",
       "      <td>229328.0</td>\n",
       "      <td>2</td>\n",
       "      <td>{\"Amin, Kemi\",\"Taylor, Anneliese S\"}</td>\n",
       "      <td>Elevator Pitch Exercise Template and Examples</td>\n",
       "      <td>Use this elevator pitch template for exercises...</td>\n",
       "      <td>{communications,library,bioinformatician,\"scho...</td>\n",
       "      <td>34</td>\n",
       "      <td>[open access, scholarly communication, bioinfo...</td>\n",
       "      <td>[2]</td>\n",
       "    </tr>\n",
       "    <tr>\n",
       "      <th>208802</th>\n",
       "      <td>229329</td>\n",
       "      <td>229329.0</td>\n",
       "      <td>1</td>\n",
       "      <td>{\"Yang, Su-Fen\",\"Arnold, Barry C\"}</td>\n",
       "      <td>A simple approach for monitoring business serv...</td>\n",
       "      <td>Control charts are effective tools for signal ...</td>\n",
       "      <td>{Models,Statistical,Algorithms,Time,Commerce,\"...</td>\n",
       "      <td>34</td>\n",
       "      <td>[Taiwan, Commerce, Algorithms, Quality Control...</td>\n",
       "      <td>[1]</td>\n",
       "    </tr>\n",
       "    <tr>\n",
       "      <th>208803</th>\n",
       "      <td>229330</td>\n",
       "      <td>229330.0</td>\n",
       "      <td>16</td>\n",
       "      <td>{\"Stein, Hans Henrik\",\"Casas, Gloria Amparo\",\"...</td>\n",
       "      <td>Nutritional value of high fiber co-products fr...</td>\n",
       "      <td>High fiber co-products from the copra and palm...</td>\n",
       "      <td>{\"Copra expellers\",\"Copra meal\",\"Palm kernel e...</td>\n",
       "      <td>34</td>\n",
       "      <td>[Copra expellers, Rice bran, Animal Production...</td>\n",
       "      <td>[16]</td>\n",
       "    </tr>\n",
       "    <tr>\n",
       "      <th>208804</th>\n",
       "      <td>229331</td>\n",
       "      <td>229331.0</td>\n",
       "      <td>1, 7, 8</td>\n",
       "      <td>{\"Bromfield, Heather\",\"Moore, Eli\"}</td>\n",
       "      <td>Unfair Shares: Racial Disparities and the Regi...</td>\n",
       "      <td>This report reveals that in the San Francisco ...</td>\n",
       "      <td>{\"Bay Area allocations\",methods,terminology,pe...</td>\n",
       "      <td>34</td>\n",
       "      <td>[income, Bay Area allocations, methods, housin...</td>\n",
       "      <td>[1, 7, 8]</td>\n",
       "    </tr>\n",
       "    <tr>\n",
       "      <th>208805</th>\n",
       "      <td>229332</td>\n",
       "      <td>229332.0</td>\n",
       "      <td>7</td>\n",
       "      <td>{\"Ekman, Annaleigh Yahata\"}</td>\n",
       "      <td>Meeting Travel Needs: Becoming Reacquainted wi...</td>\n",
       "      <td>Our current examples of transportation needs a...</td>\n",
       "      <td>{needs,travel,behavior,community,\"urban planni...</td>\n",
       "      <td>34</td>\n",
       "      <td>[Huntington Park, research, smartphone, survey...</td>\n",
       "      <td>[7]</td>\n",
       "    </tr>\n",
       "  </tbody>\n",
       "</table>\n",
       "<p>208806 rows × 10 columns</p>\n",
       "</div>"
      ],
      "text/plain": [
       "        ptr_id  articletype_id  sdg_lst  \\\n",
       "0           13            13.0    14, 2   \n",
       "1           14            14.0        2   \n",
       "2           16            16.0        2   \n",
       "3           17            17.0    14, 1   \n",
       "4           18            18.0       14   \n",
       "...        ...             ...      ...   \n",
       "208801  229328        229328.0        2   \n",
       "208802  229329        229329.0        1   \n",
       "208803  229330        229330.0       16   \n",
       "208804  229331        229331.0  1, 7, 8   \n",
       "208805  229332        229332.0        7   \n",
       "\n",
       "                                                  authors  \\\n",
       "0                                 {\"Jansen, Jonathan D.\"}   \n",
       "1                                 {\"Jansen, Jonathan D.\"}   \n",
       "2                                 {\"Jansen, Jonathan D.\"}   \n",
       "3                                 {\"Jansen, Jonathan D.\"}   \n",
       "4                                 {\"Jansen, Jonathan D.\"}   \n",
       "...                                                   ...   \n",
       "208801               {\"Amin, Kemi\",\"Taylor, Anneliese S\"}   \n",
       "208802                 {\"Yang, Su-Fen\",\"Arnold, Barry C\"}   \n",
       "208803  {\"Stein, Hans Henrik\",\"Casas, Gloria Amparo\",\"...   \n",
       "208804                {\"Bromfield, Heather\",\"Moore, Eli\"}   \n",
       "208805                        {\"Ekman, Annaleigh Yahata\"}   \n",
       "\n",
       "                                                    title  \\\n",
       "0       Autonomy and accountability in the regulation ...   \n",
       "1                                Intellectuals under fire   \n",
       "2       Mode 2 knowledge and institutional life: takin...   \n",
       "3       Political symbolism as policy craft : explaini...   \n",
       "4       School curriculum since apartheid : intersecti...   \n",
       "...                                                   ...   \n",
       "208801      Elevator Pitch Exercise Template and Examples   \n",
       "208802  A simple approach for monitoring business serv...   \n",
       "208803  Nutritional value of high fiber co-products fr...   \n",
       "208804  Unfair Shares: Racial Disparities and the Regi...   \n",
       "208805  Meeting Travel Needs: Becoming Reacquainted wi...   \n",
       "\n",
       "                                                  content  \\\n",
       "0       This article examines the struggles of the Sou...   \n",
       "1       Looks at the status of intellectuals in South ...   \n",
       "2       This paper examines the response of a black un...   \n",
       "3       The policy literature in developing countries ...   \n",
       "4       In the wake of South Africa's first non-racial...   \n",
       "...                                                   ...   \n",
       "208801  Use this elevator pitch template for exercises...   \n",
       "208802  Control charts are effective tools for signal ...   \n",
       "208803  High fiber co-products from the copra and palm...   \n",
       "208804  This report reveals that in the San Francisco ...   \n",
       "208805  Our current examples of transportation needs a...   \n",
       "\n",
       "                                                 keywords  institution_id  \\\n",
       "0       {Autonomy,Learning,Performance,Teaching,\"Gover...               1   \n",
       "1       {\"Cultural policy\",Democracy,\"Political system...               1   \n",
       "2       {\"Higher education\",\"Information technology\",\"...               1   \n",
       "3       {Apartheid,\"Educational change\",\"Educational p...               1   \n",
       "4       {\"Curriculum development\",\"Educational policy\"...               1   \n",
       "...                                                   ...             ...   \n",
       "208801  {communications,library,bioinformatician,\"scho...              34   \n",
       "208802  {Models,Statistical,Algorithms,Time,Commerce,\"...              34   \n",
       "208803  {\"Copra expellers\",\"Copra meal\",\"Palm kernel e...              34   \n",
       "208804  {\"Bay Area allocations\",methods,terminology,pe...              34   \n",
       "208805  {needs,travel,behavior,community,\"urban planni...              34   \n",
       "\n",
       "                                          unique_keywords   sdg_ints  \n",
       "0       [Teaching, Performance, Learning, Educational ...    [14, 2]  \n",
       "1       [Political systems, Politics, Democracy, Cultu...        [2]  \n",
       "2       [Information technology, Knowledge theory, App...        [2]  \n",
       "3       [Apartheid, Educational change, Theories, Educ...    [14, 1]  \n",
       "4       [Curriculum development, Apartheid, Educationa...       [14]  \n",
       "...                                                   ...        ...  \n",
       "208801  [open access, scholarly communication, bioinfo...        [2]  \n",
       "208802  [Taiwan, Commerce, Algorithms, Quality Control...        [1]  \n",
       "208803  [Copra expellers, Rice bran, Animal Production...       [16]  \n",
       "208804  [income, Bay Area allocations, methods, housin...  [1, 7, 8]  \n",
       "208805  [Huntington Park, research, smartphone, survey...        [7]  \n",
       "\n",
       "[208806 rows x 10 columns]"
      ]
     },
     "execution_count": 23,
     "metadata": {},
     "output_type": "execute_result"
    }
   ],
   "source": [
    "df"
   ]
  },
  {
   "cell_type": "code",
   "execution_count": null,
   "id": "7affe15a-8e9f-4b61-821b-5ea2aa17fd21",
   "metadata": {},
   "outputs": [],
   "source": []
  }
 ],
 "metadata": {
  "kernelspec": {
   "display_name": "Python 3 (ipykernel)",
   "language": "python",
   "name": "python3"
  },
  "language_info": {
   "codemirror_mode": {
    "name": "ipython",
    "version": 3
   },
   "file_extension": ".py",
   "mimetype": "text/x-python",
   "name": "python",
   "nbconvert_exporter": "python",
   "pygments_lexer": "ipython3",
   "version": "3.8.7"
  }
 },
 "nbformat": 4,
 "nbformat_minor": 5
}
