{
 "cells": [
  {
   "cell_type": "markdown",
   "id": "07d62c3d-77c4-4093-a1e8-aea41afdf6f2",
   "metadata": {},
   "source": [
    "### Overview\n",
    "##### Read, process, and save preprocessed SDG descriptions and aliases.  "
   ]
  },
  {
   "cell_type": "markdown",
   "id": "2ec33d00-0bc6-4856-8e10-db98697b063d",
   "metadata": {},
   "source": [
    "# Global Variables"
   ]
  },
  {
   "cell_type": "code",
   "execution_count": 1,
   "id": "ee7e07f9-9473-4042-bf0f-54de0838736b",
   "metadata": {},
   "outputs": [],
   "source": [
    "nb_name = '1.0-sej-sdg-descriptions'\n",
    "dataset_1 = 'wiki-sdg.csv'"
   ]
  },
  {
   "cell_type": "markdown",
   "id": "21a04718-611c-4f79-8d1f-dd9edf65bca4",
   "metadata": {},
   "source": [
    "# Import Data"
   ]
  },
  {
   "cell_type": "code",
   "execution_count": 2,
   "id": "786e7f78-cc87-413d-b7b8-f932b9c5b853",
   "metadata": {},
   "outputs": [],
   "source": [
    "import pandas as pd\n",
    "\n",
    "import matplotlib.pyplot as plt\n",
    "import os\n",
    "from itertools import zip_longest\n",
    "import numpy as np\n"
   ]
  },
  {
   "cell_type": "code",
   "execution_count": 3,
   "id": "ef6c3ac7-be89-4b44-9c0e-1ac8e75dade4",
   "metadata": {},
   "outputs": [],
   "source": [
    "# Read source .csv \n",
    "\n",
    "df_sdg = pd.read_csv('../../data/metadata/' + dataset_1, header=0,\n",
    "                    \n",
    "                    # csv encoding type and specify index column\n",
    "                    \n",
    "                    encoding='ANSI') #, index_col = 0)"
   ]
  },
  {
   "cell_type": "code",
   "execution_count": 4,
   "id": "2a57bd93-fff8-407a-b153-a0294ea9ae13",
   "metadata": {},
   "outputs": [
    {
     "data": {
      "text/html": [
       "<div>\n",
       "<style scoped>\n",
       "    .dataframe tbody tr th:only-of-type {\n",
       "        vertical-align: middle;\n",
       "    }\n",
       "\n",
       "    .dataframe tbody tr th {\n",
       "        vertical-align: top;\n",
       "    }\n",
       "\n",
       "    .dataframe thead th {\n",
       "        text-align: right;\n",
       "    }\n",
       "</style>\n",
       "<table border=\"1\" class=\"dataframe\">\n",
       "  <thead>\n",
       "    <tr style=\"text-align: right;\">\n",
       "      <th></th>\n",
       "      <th>sdg_id</th>\n",
       "      <th>sgd_description</th>\n",
       "      <th>sdg_alias1</th>\n",
       "      <th>sdg_alias2</th>\n",
       "      <th>Unnamed: 4</th>\n",
       "      <th>Unnamed: 5</th>\n",
       "    </tr>\n",
       "  </thead>\n",
       "  <tbody>\n",
       "    <tr>\n",
       "      <th>15</th>\n",
       "      <td>16</td>\n",
       "      <td>Peace  Justice  and Strong Institutions</td>\n",
       "      <td>Peace</td>\n",
       "      <td>Justice</td>\n",
       "      <td>NaN</td>\n",
       "      <td>NaN</td>\n",
       "    </tr>\n",
       "    <tr>\n",
       "      <th>16</th>\n",
       "      <td>17</td>\n",
       "      <td>Partnerships for the Goals.</td>\n",
       "      <td>partnership</td>\n",
       "      <td>NaN</td>\n",
       "      <td>NaN</td>\n",
       "      <td>NaN</td>\n",
       "    </tr>\n",
       "  </tbody>\n",
       "</table>\n",
       "</div>"
      ],
      "text/plain": [
       "    sdg_id                          sgd_description   sdg_alias1 sdg_alias2  \\\n",
       "15      16  Peace  Justice  and Strong Institutions        Peace    Justice   \n",
       "16      17              Partnerships for the Goals.  partnership        NaN   \n",
       "\n",
       "    Unnamed: 4  Unnamed: 5  \n",
       "15         NaN         NaN  \n",
       "16         NaN         NaN  "
      ]
     },
     "execution_count": 4,
     "metadata": {},
     "output_type": "execute_result"
    }
   ],
   "source": [
    "# View raw csv\n",
    "\n",
    "df_sdg.tail(2)"
   ]
  },
  {
   "cell_type": "markdown",
   "id": "9cc4dbbb-90cb-4b05-934c-0c6b0279b4bd",
   "metadata": {},
   "source": [
    "### Preprocess data"
   ]
  },
  {
   "cell_type": "code",
   "execution_count": 5,
   "id": "a62cd73a-10d8-49e6-87d4-0d2dc65f9b15",
   "metadata": {},
   "outputs": [
    {
     "data": {
      "text/html": [
       "<div>\n",
       "<style scoped>\n",
       "    .dataframe tbody tr th:only-of-type {\n",
       "        vertical-align: middle;\n",
       "    }\n",
       "\n",
       "    .dataframe tbody tr th {\n",
       "        vertical-align: top;\n",
       "    }\n",
       "\n",
       "    .dataframe thead th {\n",
       "        text-align: right;\n",
       "    }\n",
       "</style>\n",
       "<table border=\"1\" class=\"dataframe\">\n",
       "  <thead>\n",
       "    <tr style=\"text-align: right;\">\n",
       "      <th></th>\n",
       "      <th>sdg_id</th>\n",
       "      <th>sgd_description</th>\n",
       "      <th>sdg_alias1</th>\n",
       "    </tr>\n",
       "  </thead>\n",
       "  <tbody>\n",
       "    <tr>\n",
       "      <th>15</th>\n",
       "      <td>16</td>\n",
       "      <td>Peace  Justice  and Strong Institutions</td>\n",
       "      <td>Peace</td>\n",
       "    </tr>\n",
       "    <tr>\n",
       "      <th>16</th>\n",
       "      <td>17</td>\n",
       "      <td>Partnerships for the Goals.</td>\n",
       "      <td>partnership</td>\n",
       "    </tr>\n",
       "  </tbody>\n",
       "</table>\n",
       "</div>"
      ],
      "text/plain": [
       "    sdg_id                          sgd_description   sdg_alias1\n",
       "15      16  Peace  Justice  and Strong Institutions        Peace\n",
       "16      17              Partnerships for the Goals.  partnership"
      ]
     },
     "execution_count": 5,
     "metadata": {},
     "output_type": "execute_result"
    }
   ],
   "source": [
    "# Remove unwanted columns\n",
    "\n",
    "df_sdg.drop(['sdg_alias2', 'Unnamed: 4', 'Unnamed: 5'], axis=1, inplace=True)\n",
    "\n",
    "# Rename columns\n",
    "\n",
    "df_sdg.rename(columns={'sgd_description':'sdg_description'})\n",
    "\n",
    "# replace double space with single\n",
    "\n",
    "df_sdg.replace('  ',' ')\n",
    "\n",
    "# display \n",
    "\n",
    "df_sdg.tail(2)"
   ]
  },
  {
   "cell_type": "markdown",
   "id": "df40fc9b-69fd-456d-bec6-34f4b305a099",
   "metadata": {},
   "source": [
    "### Save Data File "
   ]
  },
  {
   "cell_type": "code",
   "execution_count": 6,
   "id": "6333b0b5-c193-42fb-af18-421b74960868",
   "metadata": {},
   "outputs": [],
   "source": [
    "df_sdg.to_csv('../../data/processed/'+'preprocessed_data_'+dataset_1, index=False)"
   ]
  }
 ],
 "metadata": {
  "kernelspec": {
   "display_name": "Python 3 (ipykernel)",
   "language": "python",
   "name": "python3"
  },
  "language_info": {
   "codemirror_mode": {
    "name": "ipython",
    "version": 3
   },
   "file_extension": ".py",
   "mimetype": "text/x-python",
   "name": "python",
   "nbconvert_exporter": "python",
   "pygments_lexer": "ipython3",
   "version": "3.8.7"
  }
 },
 "nbformat": 4,
 "nbformat_minor": 5
}
